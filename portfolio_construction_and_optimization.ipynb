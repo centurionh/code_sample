{
 "cells": [
  {
   "cell_type": "code",
   "execution_count": 242,
   "metadata": {},
   "outputs": [],
   "source": [
    "import warnings\n",
    "warnings.filterwarnings(\"ignore\")\n",
    "\n",
    "import pandas as pd\n",
    "import numpy as np\n",
    "import matplotlib.pyplot as plt\n",
    "import matlab\n",
    "import matlab.engine\n",
    "import seaborn as sns\n",
    "import pickle\n",
    "sns.set()"
   ]
  },
  {
   "cell_type": "code",
   "execution_count": 88,
   "metadata": {},
   "outputs": [],
   "source": [
    "corp_bond = pd.read_csv('./Desktop/bond_factor.csv',index_col = 0)\n",
    "corp_bond = corp_bond.iloc[1:,-3:] / 100"
   ]
  },
  {
   "cell_type": "code",
   "execution_count": 89,
   "metadata": {},
   "outputs": [
    {
     "data": {
      "text/html": [
       "<div>\n",
       "<style>\n",
       "    .dataframe thead tr:only-child th {\n",
       "        text-align: right;\n",
       "    }\n",
       "\n",
       "    .dataframe thead th {\n",
       "        text-align: left;\n",
       "    }\n",
       "\n",
       "    .dataframe tbody tr th {\n",
       "        vertical-align: top;\n",
       "    }\n",
       "</style>\n",
       "<table border=\"1\" class=\"dataframe\">\n",
       "  <thead>\n",
       "    <tr style=\"text-align: right;\">\n",
       "      <th></th>\n",
       "      <th>HighYield_Investment</th>\n",
       "      <th>TIP_10Yr</th>\n",
       "      <th>TermStructure</th>\n",
       "    </tr>\n",
       "    <tr>\n",
       "      <th>Date</th>\n",
       "      <th></th>\n",
       "      <th></th>\n",
       "      <th></th>\n",
       "    </tr>\n",
       "  </thead>\n",
       "  <tbody>\n",
       "    <tr>\n",
       "      <th>2008-01-31</th>\n",
       "      <td>-0.049055</td>\n",
       "      <td>0.002168</td>\n",
       "      <td>0.017012</td>\n",
       "    </tr>\n",
       "    <tr>\n",
       "      <th>2008-02-29</th>\n",
       "      <td>-0.027340</td>\n",
       "      <td>0.001835</td>\n",
       "      <td>0.002060</td>\n",
       "    </tr>\n",
       "    <tr>\n",
       "      <th>2008-03-31</th>\n",
       "      <td>0.010619</td>\n",
       "      <td>-0.014772</td>\n",
       "      <td>0.010838</td>\n",
       "    </tr>\n",
       "    <tr>\n",
       "      <th>2008-04-30</th>\n",
       "      <td>0.024794</td>\n",
       "      <td>0.010177</td>\n",
       "      <td>-0.015799</td>\n",
       "    </tr>\n",
       "    <tr>\n",
       "      <th>2008-05-31</th>\n",
       "      <td>0.025924</td>\n",
       "      <td>0.018844</td>\n",
       "      <td>-0.014314</td>\n",
       "    </tr>\n",
       "  </tbody>\n",
       "</table>\n",
       "</div>"
      ],
      "text/plain": [
       "            HighYield_Investment  TIP_10Yr  TermStructure\n",
       "Date                                                     \n",
       "2008-01-31             -0.049055  0.002168       0.017012\n",
       "2008-02-29             -0.027340  0.001835       0.002060\n",
       "2008-03-31              0.010619 -0.014772       0.010838\n",
       "2008-04-30              0.024794  0.010177      -0.015799\n",
       "2008-05-31              0.025924  0.018844      -0.014314"
      ]
     },
     "execution_count": 89,
     "metadata": {},
     "output_type": "execute_result"
    }
   ],
   "source": [
    "corp_bond.head(5)"
   ]
  },
  {
   "cell_type": "code",
   "execution_count": 92,
   "metadata": {},
   "outputs": [],
   "source": [
    "gov_bond = pd.read_csv('./Desktop/gov_bond_factor.csv',index_col = 0).dropna()\n",
    "gov_bond = gov_bond / 100"
   ]
  },
  {
   "cell_type": "code",
   "execution_count": 93,
   "metadata": {},
   "outputs": [
    {
     "data": {
      "text/html": [
       "<div>\n",
       "<style>\n",
       "    .dataframe thead tr:only-child th {\n",
       "        text-align: right;\n",
       "    }\n",
       "\n",
       "    .dataframe thead th {\n",
       "        text-align: left;\n",
       "    }\n",
       "\n",
       "    .dataframe tbody tr th {\n",
       "        vertical-align: top;\n",
       "    }\n",
       "</style>\n",
       "<table border=\"1\" class=\"dataframe\">\n",
       "  <thead>\n",
       "    <tr style=\"text-align: right;\">\n",
       "      <th></th>\n",
       "      <th>TIP_10Yr</th>\n",
       "      <th>TermStructure</th>\n",
       "    </tr>\n",
       "    <tr>\n",
       "      <th>Date</th>\n",
       "      <th></th>\n",
       "      <th></th>\n",
       "    </tr>\n",
       "  </thead>\n",
       "  <tbody>\n",
       "    <tr>\n",
       "      <th>1/31/08</th>\n",
       "      <td>0.002168</td>\n",
       "      <td>0.017012</td>\n",
       "    </tr>\n",
       "    <tr>\n",
       "      <th>2/29/08</th>\n",
       "      <td>0.001835</td>\n",
       "      <td>0.002060</td>\n",
       "    </tr>\n",
       "    <tr>\n",
       "      <th>3/31/08</th>\n",
       "      <td>-0.014772</td>\n",
       "      <td>0.010838</td>\n",
       "    </tr>\n",
       "    <tr>\n",
       "      <th>4/30/08</th>\n",
       "      <td>0.010177</td>\n",
       "      <td>-0.015799</td>\n",
       "    </tr>\n",
       "    <tr>\n",
       "      <th>5/31/08</th>\n",
       "      <td>0.018844</td>\n",
       "      <td>-0.014314</td>\n",
       "    </tr>\n",
       "  </tbody>\n",
       "</table>\n",
       "</div>"
      ],
      "text/plain": [
       "         TIP_10Yr  TermStructure\n",
       "Date                            \n",
       "1/31/08  0.002168       0.017012\n",
       "2/29/08  0.001835       0.002060\n",
       "3/31/08 -0.014772       0.010838\n",
       "4/30/08  0.010177      -0.015799\n",
       "5/31/08  0.018844      -0.014314"
      ]
     },
     "execution_count": 93,
     "metadata": {},
     "output_type": "execute_result"
    }
   ],
   "source": [
    "gov_bond.head(5)"
   ]
  },
  {
   "cell_type": "code",
   "execution_count": 40,
   "metadata": {},
   "outputs": [],
   "source": [
    "US_equity = pd.read_csv('./Desktop/US_FF3_M.CSV',index_col = 0)\n",
    "US_equity = US_equity.iloc[:,:3]/100\n"
   ]
  },
  {
   "cell_type": "code",
   "execution_count": 41,
   "metadata": {},
   "outputs": [
    {
     "data": {
      "text/html": [
       "<div>\n",
       "<style>\n",
       "    .dataframe thead tr:only-child th {\n",
       "        text-align: right;\n",
       "    }\n",
       "\n",
       "    .dataframe thead th {\n",
       "        text-align: left;\n",
       "    }\n",
       "\n",
       "    .dataframe tbody tr th {\n",
       "        vertical-align: top;\n",
       "    }\n",
       "</style>\n",
       "<table border=\"1\" class=\"dataframe\">\n",
       "  <thead>\n",
       "    <tr style=\"text-align: right;\">\n",
       "      <th></th>\n",
       "      <th>Mkt-RF</th>\n",
       "      <th>SMB</th>\n",
       "      <th>HML</th>\n",
       "    </tr>\n",
       "  </thead>\n",
       "  <tbody>\n",
       "    <tr>\n",
       "      <th>192607</th>\n",
       "      <td>0.0296</td>\n",
       "      <td>-0.0230</td>\n",
       "      <td>-0.0287</td>\n",
       "    </tr>\n",
       "    <tr>\n",
       "      <th>192608</th>\n",
       "      <td>0.0264</td>\n",
       "      <td>-0.0140</td>\n",
       "      <td>0.0419</td>\n",
       "    </tr>\n",
       "    <tr>\n",
       "      <th>192609</th>\n",
       "      <td>0.0036</td>\n",
       "      <td>-0.0132</td>\n",
       "      <td>0.0001</td>\n",
       "    </tr>\n",
       "    <tr>\n",
       "      <th>192610</th>\n",
       "      <td>-0.0324</td>\n",
       "      <td>0.0004</td>\n",
       "      <td>0.0051</td>\n",
       "    </tr>\n",
       "    <tr>\n",
       "      <th>192611</th>\n",
       "      <td>0.0253</td>\n",
       "      <td>-0.0020</td>\n",
       "      <td>-0.0035</td>\n",
       "    </tr>\n",
       "  </tbody>\n",
       "</table>\n",
       "</div>"
      ],
      "text/plain": [
       "        Mkt-RF     SMB     HML\n",
       "192607  0.0296 -0.0230 -0.0287\n",
       "192608  0.0264 -0.0140  0.0419\n",
       "192609  0.0036 -0.0132  0.0001\n",
       "192610 -0.0324  0.0004  0.0051\n",
       "192611  0.0253 -0.0020 -0.0035"
      ]
     },
     "execution_count": 41,
     "metadata": {},
     "output_type": "execute_result"
    }
   ],
   "source": [
    "US_equity.head(5)"
   ]
  },
  {
   "cell_type": "code",
   "execution_count": 98,
   "metadata": {},
   "outputs": [],
   "source": [
    "global_equity = pd.read_csv('./Desktop/Global_ex_US_3_Factors.csv', index_col = 0)\n",
    "global_equity = global_equity.iloc[:,:3]/100\n"
   ]
  },
  {
   "cell_type": "code",
   "execution_count": 99,
   "metadata": {},
   "outputs": [
    {
     "data": {
      "text/html": [
       "<div>\n",
       "<style>\n",
       "    .dataframe thead tr:only-child th {\n",
       "        text-align: right;\n",
       "    }\n",
       "\n",
       "    .dataframe thead th {\n",
       "        text-align: left;\n",
       "    }\n",
       "\n",
       "    .dataframe tbody tr th {\n",
       "        vertical-align: top;\n",
       "    }\n",
       "</style>\n",
       "<table border=\"1\" class=\"dataframe\">\n",
       "  <thead>\n",
       "    <tr style=\"text-align: right;\">\n",
       "      <th></th>\n",
       "      <th>Mkt-RF</th>\n",
       "      <th>SMB</th>\n",
       "      <th>HML</th>\n",
       "    </tr>\n",
       "  </thead>\n",
       "  <tbody>\n",
       "    <tr>\n",
       "      <th>200010</th>\n",
       "      <td>-0.0449</td>\n",
       "      <td>-0.0582</td>\n",
       "      <td>0.0746</td>\n",
       "    </tr>\n",
       "    <tr>\n",
       "      <th>200011</th>\n",
       "      <td>-0.0420</td>\n",
       "      <td>-0.0116</td>\n",
       "      <td>0.0968</td>\n",
       "    </tr>\n",
       "    <tr>\n",
       "      <th>200012</th>\n",
       "      <td>0.0137</td>\n",
       "      <td>-0.0003</td>\n",
       "      <td>0.0498</td>\n",
       "    </tr>\n",
       "    <tr>\n",
       "      <th>200101</th>\n",
       "      <td>0.0038</td>\n",
       "      <td>0.0122</td>\n",
       "      <td>-0.0168</td>\n",
       "    </tr>\n",
       "    <tr>\n",
       "      <th>200102</th>\n",
       "      <td>-0.0787</td>\n",
       "      <td>0.0420</td>\n",
       "      <td>0.0947</td>\n",
       "    </tr>\n",
       "  </tbody>\n",
       "</table>\n",
       "</div>"
      ],
      "text/plain": [
       "        Mkt-RF     SMB     HML\n",
       "200010 -0.0449 -0.0582  0.0746\n",
       "200011 -0.0420 -0.0116  0.0968\n",
       "200012  0.0137 -0.0003  0.0498\n",
       "200101  0.0038  0.0122 -0.0168\n",
       "200102 -0.0787  0.0420  0.0947"
      ]
     },
     "execution_count": 99,
     "metadata": {},
     "output_type": "execute_result"
    }
   ],
   "source": [
    "global_equity.head(5)"
   ]
  },
  {
   "cell_type": "code",
   "execution_count": 102,
   "metadata": {},
   "outputs": [],
   "source": [
    "emerging_equity = pd.read_csv('./Desktop/EmergingEq_factor.csv', index_col = 0).dropna()\n",
    "emerging_equity = emerging_equity.iloc[:,-2:]/100"
   ]
  },
  {
   "cell_type": "code",
   "execution_count": 103,
   "metadata": {},
   "outputs": [
    {
     "data": {
      "text/html": [
       "<div>\n",
       "<style>\n",
       "    .dataframe thead tr:only-child th {\n",
       "        text-align: right;\n",
       "    }\n",
       "\n",
       "    .dataframe thead th {\n",
       "        text-align: left;\n",
       "    }\n",
       "\n",
       "    .dataframe tbody tr th {\n",
       "        vertical-align: top;\n",
       "    }\n",
       "</style>\n",
       "<table border=\"1\" class=\"dataframe\">\n",
       "  <thead>\n",
       "    <tr style=\"text-align: right;\">\n",
       "      <th></th>\n",
       "      <th>Size</th>\n",
       "      <th>Value</th>\n",
       "    </tr>\n",
       "    <tr>\n",
       "      <th>Date</th>\n",
       "      <th></th>\n",
       "      <th></th>\n",
       "    </tr>\n",
       "  </thead>\n",
       "  <tbody>\n",
       "    <tr>\n",
       "      <th>2008-01-31</th>\n",
       "      <td>-0.005966</td>\n",
       "      <td>-0.006291</td>\n",
       "    </tr>\n",
       "    <tr>\n",
       "      <th>2008-02-29</th>\n",
       "      <td>0.026448</td>\n",
       "      <td>-0.002535</td>\n",
       "    </tr>\n",
       "    <tr>\n",
       "      <th>2008-03-31</th>\n",
       "      <td>0.034171</td>\n",
       "      <td>-0.004187</td>\n",
       "    </tr>\n",
       "    <tr>\n",
       "      <th>2008-04-30</th>\n",
       "      <td>-0.057232</td>\n",
       "      <td>-0.007457</td>\n",
       "    </tr>\n",
       "    <tr>\n",
       "      <th>2008-05-31</th>\n",
       "      <td>-0.040980</td>\n",
       "      <td>-0.066910</td>\n",
       "    </tr>\n",
       "  </tbody>\n",
       "</table>\n",
       "</div>"
      ],
      "text/plain": [
       "                Size     Value\n",
       "Date                          \n",
       "2008-01-31 -0.005966 -0.006291\n",
       "2008-02-29  0.026448 -0.002535\n",
       "2008-03-31  0.034171 -0.004187\n",
       "2008-04-30 -0.057232 -0.007457\n",
       "2008-05-31 -0.040980 -0.066910"
      ]
     },
     "execution_count": 103,
     "metadata": {},
     "output_type": "execute_result"
    }
   ],
   "source": [
    "emerging_equity.head(5)"
   ]
  },
  {
   "cell_type": "code",
   "execution_count": 83,
   "metadata": {},
   "outputs": [],
   "source": [
    "def make_mean_matrix(data, window):\n",
    "    result = data.rolling(window = window).mean().dropna(how = 'any', axis = 0)\n",
    "    return result\n",
    "\n",
    "def make_cov_matrix(data, window):\n",
    "    result = data.rolling(window = window).cov().to_panel().dropna(how = 'any', axis = 1).swapaxes(0,1)\n",
    "    return result"
   ]
  },
  {
   "cell_type": "code",
   "execution_count": 106,
   "metadata": {},
   "outputs": [],
   "source": [
    "corp_bond_mean = make_mean_matrix(corp_bond,12)\n",
    "corp_bond_cov = make_cov_matrix(corp_bond,12)\n",
    "\n",
    "gov_bond_mean = make_mean_matrix(gov_bond,12)\n",
    "gov_bond_cov = make_cov_matrix(gov_bond,12)\n",
    "\n",
    "US_equity_mean = make_mean_matrix(US_equity,12)\n",
    "US_equity_cov = make_cov_matrix(US_equity,12)\n",
    "\n",
    "global_equity_mean = make_mean_matrix(global_equity,12)\n",
    "global_equity_cov = make_cov_matrix(global_equity,12)\n",
    "\n",
    "emerging_equity_mean = make_mean_matrix(emerging_equity,12)\n",
    "emerging_equity_cov = make_cov_matrix(emerging_equity,12)"
   ]
  },
  {
   "cell_type": "code",
   "execution_count": 113,
   "metadata": {},
   "outputs": [],
   "source": [
    "def optimize_portfolio(mean,cov,rf=0,lb=0,ub=1,target=1):\n",
    "    rf, lb, ub, target = float(rf),float(lb),float(ub),float(target)\n",
    "    result = pd.DataFrame(index = mean.index, columns = mean.columns)\n",
    "    for i in result.index:\n",
    "        test_mean = matlab.double(mean.loc[i].values.tolist())\n",
    "        test_cov = matlab.double(cov.loc[i].values.tolist())\n",
    "        result.loc[i] = np.array(eng.calculate_portfolio(rf, test_mean, test_cov, lb, ub, target)).T[0]\n",
    "    return result"
   ]
  },
  {
   "cell_type": "code",
   "execution_count": 116,
   "metadata": {},
   "outputs": [],
   "source": [
    "eng = matlab.engine.connect_matlab()"
   ]
  },
  {
   "cell_type": "code",
   "execution_count": 185,
   "metadata": {},
   "outputs": [],
   "source": [
    "corp_bond_portfolio = optimize_portfolio(corp_bond_mean,corp_bond_cov)\n",
    "gov_bond_portfolio = optimize_portfolio(gov_bond_mean,gov_bond_cov)\n",
    "US_equity_portfolio = optimize_portfolio(US_equity_mean,US_equity_cov)\n",
    "global_equity_portfolio = optimize_portfolio(global_equity_mean,global_equity_cov)\n",
    "emerging_equity_portfolio = optimize_portfolio(emerging_equity_mean,emerging_equity_cov)"
   ]
  },
  {
   "cell_type": "code",
   "execution_count": 243,
   "metadata": {},
   "outputs": [],
   "source": [
    "with open('result.pkl','wb') as f:\n",
    "    agg = [corp_bond_portfolio,gov_bond_portfolio,US_equity_portfolio,global_equity_portfolio,emerging_equity_portfolio]\n",
    "    pickle.dump(agg,f)"
   ]
  },
  {
   "cell_type": "code",
   "execution_count": null,
   "metadata": {},
   "outputs": [],
   "source": [
    "corp_bond_portfolio = optimize_portfolio(corp_bond_mean,corp_bond_cov)\n",
    "gov_bond_portfolio = optimize_portfolio(gov_bond_mean,gov_bond_cov)\n",
    "US_equity_portfolio = optimize_portfolio(US_equity_mean,US_equity_cov)\n",
    "global_equity_portfolio = optimize_portfolio(global_equity_mean,global_equity_cov)\n",
    "emerging_equity_portfolio = optimize_portfolio(emerging_equity_mean,emerging_equity_cov)"
   ]
  },
  {
   "cell_type": "code",
   "execution_count": null,
   "metadata": {},
   "outputs": [],
   "source": []
  },
  {
   "cell_type": "code",
   "execution_count": 232,
   "metadata": {},
   "outputs": [],
   "source": [
    "def backtest(portfolio,mean):\n",
    "    return ((portfolio.shift(1) * mean).fillna(0).sum(axis = 1) + 1).cumprod()"
   ]
  },
  {
   "cell_type": "code",
   "execution_count": 233,
   "metadata": {},
   "outputs": [],
   "source": [
    "corp_bond_curve = backtest(corp_bond_portfolio, corp_bond_mean)\n",
    "gov_bond_curve = backtest(gov_bond_portfolio, gov_bond_mean)\n",
    "US_equity_curve = backtest(US_equity_portfolio, US_equity_mean)\n",
    "global_equity_curve = backtest(global_equity_portfolio, global_equity_mean)\n",
    "emerging_equity_curve = backtest(emerging_equity_portfolio, emerging_equity_mean)"
   ]
  },
  {
   "cell_type": "code",
   "execution_count": 234,
   "metadata": {},
   "outputs": [],
   "source": [
    "US_equity_curve.index = pd.to_datetime(US_equity_curve.index,format='%Y%m')\n",
    "global_equity_curve.index = pd.to_datetime(global_equity_curve.index,format='%Y%m')"
   ]
  },
  {
   "cell_type": "code",
   "execution_count": 236,
   "metadata": {},
   "outputs": [
    {
     "data": {
      "image/png": "[encoded data removed]",
      "text/plain": [
       "<matplotlib.figure.Figure at 0x1a17beb2b0>"
      ]
     },
     "metadata": {},
     "output_type": "display_data"
    }
   ],
   "source": [
    "corp_bond_curve.plot()\n",
    "plt.show()"
   ]
  },
  {
   "cell_type": "code",
   "execution_count": 237,
   "metadata": {},
   "outputs": [
    {
     "data": {
      "image/png": "[encoded data removed]",
      "text/plain": [
       "<matplotlib.figure.Figure at 0x1a17f90240>"
      ]
     },
     "metadata": {},
     "output_type": "display_data"
    }
   ],
   "source": [
    "gov_bond_curve.plot()\n",
    "plt.show()"
   ]
  },
  {
   "cell_type": "code",
   "execution_count": 238,
   "metadata": {},
   "outputs": [
    {
     "data": {
      "image/png": "[encoded data removed]",
      "text/plain": [
       "<matplotlib.figure.Figure at 0x1a1440e898>"
      ]
     },
     "metadata": {},
     "output_type": "display_data"
    }
   ],
   "source": [
    "US_equity_curve.plot()\n",
    "plt.show()"
   ]
  },
  {
   "cell_type": "code",
   "execution_count": 239,
   "metadata": {},
   "outputs": [
    {
     "data": {
      "image/png": "[encoded data removed]",
      "text/plain": [
       "<matplotlib.figure.Figure at 0x1a17ae5390>"
      ]
     },
     "metadata": {},
     "output_type": "display_data"
    }
   ],
   "source": [
    "global_equity_curve.plot()\n",
    "plt.show()"
   ]
  },
  {
   "cell_type": "code",
   "execution_count": 240,
   "metadata": {},
   "outputs": [
    {
     "data": {
      "image/png": "[encoded data removed]",
      "text/plain": [
       "<matplotlib.figure.Figure at 0x1a1819ada0>"
      ]
     },
     "metadata": {},
     "output_type": "display_data"
    }
   ],
   "source": [
    "emerging_equity_curve.plot()\n",
    "plt.show()"
   ]
  },
  {
   "cell_type": "code",
   "execution_count": 246,
   "metadata": {},
   "outputs": [],
   "source": [
    "corp_bond_portfolio_ls = optimize_portfolio(corp_bond_mean,corp_bond_cov,0,-1,1,1)\n",
    "gov_bond_portfolio_ls = optimize_portfolio(gov_bond_mean,gov_bond_cov,0,-1,1,1)\n",
    "US_equity_portfolio_ls = optimize_portfolio(US_equity_mean,US_equity_cov,0,-1,1,1)\n",
    "global_equity_portfolio_ls = optimize_portfolio(global_equity_mean,global_equity_cov,0,-1,1,1)\n",
    "emerging_equity_portfolio_ls = optimize_portfolio(emerging_equity_mean,emerging_equity_cov,0,-1,1,1)"
   ]
  },
  {
   "cell_type": "code",
   "execution_count": 247,
   "metadata": {},
   "outputs": [],
   "source": [
    "corp_bond_curve_ls = backtest(corp_bond_portfolio_ls, corp_bond_mean)\n",
    "gov_bond_curve_ls = backtest(gov_bond_portfolio_ls, gov_bond_mean)\n",
    "US_equity_curve_ls = backtest(US_equity_portfolio_ls, US_equity_mean)\n",
    "global_equity_curve_ls = backtest(global_equity_portfolio_ls, global_equity_mean)\n",
    "emerging_equity_curve_ls = backtest(emerging_equity_portfolio_ls, emerging_equity_mean)"
   ]
  },
  {
   "cell_type": "code",
   "execution_count": null,
   "metadata": {},
   "outputs": [],
   "source": [
    "US_equity_portfolio.index = pd.to_datetime(US_equity_portfolio.index,format='%Y%m')\n",
    "global_equity_portfolio.index = pd.to_datetime(global_equity_portfolio.index,format='%Y%m')"
   ]
  },
  {
   "cell_type": "code",
   "execution_count": 248,
   "metadata": {},
   "outputs": [],
   "source": [
    "US_equity_curve_ls.index = pd.to_datetime(US_equity_curve_ls.index,format='%Y%m')\n",
    "global_equity_curve_ls.index = pd.to_datetime(global_equity_curve_ls.index,format='%Y%m')"
   ]
  },
  {
   "cell_type": "code",
   "execution_count": 249,
   "metadata": {},
   "outputs": [
    {
     "data": {
      "image/png": "[encoded data removed]",
      "text/plain": [
       "<matplotlib.figure.Figure at 0x1a12eeda90>"
      ]
     },
     "metadata": {},
     "output_type": "display_data"
    }
   ],
   "source": [
    "corp_bond_curve_ls.plot()\n",
    "plt.show()"
   ]
  },
  {
   "cell_type": "code",
   "execution_count": 250,
   "metadata": {},
   "outputs": [
    {
     "data": {
      "image/png": "[encoded data removed]",
      "text/plain": [
       "<matplotlib.figure.Figure at 0x1a12ef1828>"
      ]
     },
     "metadata": {},
     "output_type": "display_data"
    }
   ],
   "source": [
    "gov_bond_curve_ls.plot()\n",
    "plt.show()"
   ]
  },
  {
   "cell_type": "code",
   "execution_count": 251,
   "metadata": {},
   "outputs": [
    {
     "data": {
      "image/png": "[encoded data removed]",
      "text/plain": [
       "<matplotlib.figure.Figure at 0x1a18087e80>"
      ]
     },
     "metadata": {},
     "output_type": "display_data"
    }
   ],
   "source": [
    "US_equity_curve_ls.plot()\n",
    "plt.show()"
   ]
  },
  {
   "cell_type": "code",
   "execution_count": 252,
   "metadata": {},
   "outputs": [
    {
     "data": {
      "image/png": "[encoded data removed]",
      "text/plain": [
       "<matplotlib.figure.Figure at 0x1a17bff358>"
      ]
     },
     "metadata": {},
     "output_type": "display_data"
    }
   ],
   "source": [
    "global_equity_curve_ls.plot()\n",
    "plt.show()"
   ]
  },
  {
   "cell_type": "code",
   "execution_count": 253,
   "metadata": {},
   "outputs": [
    {
     "data": {
      "image/png": "[encoded data removed]",
      "text/plain": [
       "<matplotlib.figure.Figure at 0x1a17ede0b8>"
      ]
     },
     "metadata": {},
     "output_type": "display_data"
    }
   ],
   "source": [
    "emerging_equity_curve_ls.plot()\n",
    "plt.show()"
   ]
  },
  {
   "cell_type": "code",
   "execution_count": 255,
   "metadata": {},
   "outputs": [],
   "source": [
    "corp_bond_portfolio_unlimited = optimize_portfolio(corp_bond_mean,corp_bond_cov,0,-100,100,1)\n",
    "gov_bond_portfolio_unlimited = optimize_portfolio(gov_bond_mean,gov_bond_cov,0,-100,100,1)\n",
    "US_equity_portfolio_unlimited = optimize_portfolio(US_equity_mean,US_equity_cov,0,-100,100,1)\n",
    "global_equity_portfolio_unlimited = optimize_portfolio(global_equity_mean,global_equity_cov,0,-100,100,1)\n",
    "emerging_equity_portfolio_unlimited = optimize_portfolio(emerging_equity_mean,emerging_equity_cov,0,-100,100,1)"
   ]
  },
  {
   "cell_type": "code",
   "execution_count": 263,
   "metadata": {},
   "outputs": [
    {
     "data": {
      "text/html": [
       "<div>\n",
       "<style>\n",
       "    .dataframe thead tr:only-child th {\n",
       "        text-align: right;\n",
       "    }\n",
       "\n",
       "    .dataframe thead th {\n",
       "        text-align: left;\n",
       "    }\n",
       "\n",
       "    .dataframe tbody tr th {\n",
       "        vertical-align: top;\n",
       "    }\n",
       "</style>\n",
       "<table border=\"1\" class=\"dataframe\">\n",
       "  <thead>\n",
       "    <tr style=\"text-align: right;\">\n",
       "      <th></th>\n",
       "      <th>HighYield_Investment</th>\n",
       "      <th>TIP_10Yr</th>\n",
       "      <th>TermStructure</th>\n",
       "    </tr>\n",
       "    <tr>\n",
       "      <th>Date</th>\n",
       "      <th></th>\n",
       "      <th></th>\n",
       "      <th></th>\n",
       "    </tr>\n",
       "  </thead>\n",
       "  <tbody>\n",
       "    <tr>\n",
       "      <th>2008-12-31</th>\n",
       "      <td>-9.63546</td>\n",
       "      <td>-89.3645</td>\n",
       "      <td>100</td>\n",
       "    </tr>\n",
       "    <tr>\n",
       "      <th>2009-01-31</th>\n",
       "      <td>-65.7151</td>\n",
       "      <td>-33.2849</td>\n",
       "      <td>100</td>\n",
       "    </tr>\n",
       "    <tr>\n",
       "      <th>2009-02-28</th>\n",
       "      <td>-64.8251</td>\n",
       "      <td>-34.1749</td>\n",
       "      <td>100</td>\n",
       "    </tr>\n",
       "    <tr>\n",
       "      <th>2009-03-31</th>\n",
       "      <td>-1.95712</td>\n",
       "      <td>0.179295</td>\n",
       "      <td>2.77783</td>\n",
       "    </tr>\n",
       "    <tr>\n",
       "      <th>2009-04-30</th>\n",
       "      <td>17.3739</td>\n",
       "      <td>-100</td>\n",
       "      <td>83.6261</td>\n",
       "    </tr>\n",
       "    <tr>\n",
       "      <th>2009-05-31</th>\n",
       "      <td>14.3917</td>\n",
       "      <td>-100</td>\n",
       "      <td>86.6083</td>\n",
       "    </tr>\n",
       "    <tr>\n",
       "      <th>2009-06-30</th>\n",
       "      <td>17.9919</td>\n",
       "      <td>-100</td>\n",
       "      <td>83.0081</td>\n",
       "    </tr>\n",
       "    <tr>\n",
       "      <th>2009-07-31</th>\n",
       "      <td>30.7592</td>\n",
       "      <td>-100</td>\n",
       "      <td>70.2408</td>\n",
       "    </tr>\n",
       "    <tr>\n",
       "      <th>2009-08-31</th>\n",
       "      <td>22.415</td>\n",
       "      <td>-100</td>\n",
       "      <td>78.585</td>\n",
       "    </tr>\n",
       "    <tr>\n",
       "      <th>2009-09-30</th>\n",
       "      <td>-0.261719</td>\n",
       "      <td>0.519472</td>\n",
       "      <td>0.742248</td>\n",
       "    </tr>\n",
       "    <tr>\n",
       "      <th>2009-10-31</th>\n",
       "      <td>0.0306787</td>\n",
       "      <td>0.471924</td>\n",
       "      <td>0.497398</td>\n",
       "    </tr>\n",
       "    <tr>\n",
       "      <th>2009-11-30</th>\n",
       "      <td>0.0777897</td>\n",
       "      <td>0.734112</td>\n",
       "      <td>0.188098</td>\n",
       "    </tr>\n",
       "    <tr>\n",
       "      <th>2009-12-31</th>\n",
       "      <td>0.10233</td>\n",
       "      <td>0.84406</td>\n",
       "      <td>0.0536101</td>\n",
       "    </tr>\n",
       "    <tr>\n",
       "      <th>2010-01-31</th>\n",
       "      <td>0.125894</td>\n",
       "      <td>0.671525</td>\n",
       "      <td>0.202581</td>\n",
       "    </tr>\n",
       "    <tr>\n",
       "      <th>2010-02-28</th>\n",
       "      <td>0.261173</td>\n",
       "      <td>0.380321</td>\n",
       "      <td>0.358506</td>\n",
       "    </tr>\n",
       "    <tr>\n",
       "      <th>2010-03-31</th>\n",
       "      <td>0.201649</td>\n",
       "      <td>0.363524</td>\n",
       "      <td>0.434827</td>\n",
       "    </tr>\n",
       "    <tr>\n",
       "      <th>2010-04-30</th>\n",
       "      <td>0.223326</td>\n",
       "      <td>0.331145</td>\n",
       "      <td>0.445529</td>\n",
       "    </tr>\n",
       "    <tr>\n",
       "      <th>2010-05-31</th>\n",
       "      <td>0.237586</td>\n",
       "      <td>0.20519</td>\n",
       "      <td>0.557223</td>\n",
       "    </tr>\n",
       "    <tr>\n",
       "      <th>2010-06-30</th>\n",
       "      <td>0.340333</td>\n",
       "      <td>0.021932</td>\n",
       "      <td>0.637735</td>\n",
       "    </tr>\n",
       "    <tr>\n",
       "      <th>2010-07-31</th>\n",
       "      <td>0.317677</td>\n",
       "      <td>0.0542783</td>\n",
       "      <td>0.628045</td>\n",
       "    </tr>\n",
       "    <tr>\n",
       "      <th>2010-08-31</th>\n",
       "      <td>0.348887</td>\n",
       "      <td>0.00377094</td>\n",
       "      <td>0.647342</td>\n",
       "    </tr>\n",
       "    <tr>\n",
       "      <th>2010-09-30</th>\n",
       "      <td>0.352981</td>\n",
       "      <td>0.0346755</td>\n",
       "      <td>0.612344</td>\n",
       "    </tr>\n",
       "    <tr>\n",
       "      <th>2010-10-31</th>\n",
       "      <td>0.422852</td>\n",
       "      <td>-0.0788976</td>\n",
       "      <td>0.656046</td>\n",
       "    </tr>\n",
       "    <tr>\n",
       "      <th>2010-11-30</th>\n",
       "      <td>0.613385</td>\n",
       "      <td>-0.356597</td>\n",
       "      <td>0.743212</td>\n",
       "    </tr>\n",
       "    <tr>\n",
       "      <th>2010-12-31</th>\n",
       "      <td>0.62452</td>\n",
       "      <td>-0.35219</td>\n",
       "      <td>0.727671</td>\n",
       "    </tr>\n",
       "    <tr>\n",
       "      <th>2011-01-31</th>\n",
       "      <td>0.680769</td>\n",
       "      <td>-0.402723</td>\n",
       "      <td>0.721954</td>\n",
       "    </tr>\n",
       "    <tr>\n",
       "      <th>2011-02-28</th>\n",
       "      <td>0.438258</td>\n",
       "      <td>-0.052859</td>\n",
       "      <td>0.614601</td>\n",
       "    </tr>\n",
       "    <tr>\n",
       "      <th>2011-03-31</th>\n",
       "      <td>0.340021</td>\n",
       "      <td>0.0733587</td>\n",
       "      <td>0.58662</td>\n",
       "    </tr>\n",
       "    <tr>\n",
       "      <th>2011-04-30</th>\n",
       "      <td>0.3133</td>\n",
       "      <td>0.103755</td>\n",
       "      <td>0.582945</td>\n",
       "    </tr>\n",
       "    <tr>\n",
       "      <th>2011-05-31</th>\n",
       "      <td>0.330544</td>\n",
       "      <td>0.139077</td>\n",
       "      <td>0.530379</td>\n",
       "    </tr>\n",
       "    <tr>\n",
       "      <th>...</th>\n",
       "      <td>...</td>\n",
       "      <td>...</td>\n",
       "      <td>...</td>\n",
       "    </tr>\n",
       "    <tr>\n",
       "      <th>2015-10-31</th>\n",
       "      <td>56.0026</td>\n",
       "      <td>-100</td>\n",
       "      <td>44.9974</td>\n",
       "    </tr>\n",
       "    <tr>\n",
       "      <th>2015-11-30</th>\n",
       "      <td>34.5605</td>\n",
       "      <td>-100</td>\n",
       "      <td>66.4395</td>\n",
       "    </tr>\n",
       "    <tr>\n",
       "      <th>2015-12-31</th>\n",
       "      <td>-27.7841</td>\n",
       "      <td>-71.2159</td>\n",
       "      <td>100</td>\n",
       "    </tr>\n",
       "    <tr>\n",
       "      <th>2016-01-31</th>\n",
       "      <td>22.811</td>\n",
       "      <td>-100</td>\n",
       "      <td>78.189</td>\n",
       "    </tr>\n",
       "    <tr>\n",
       "      <th>2016-02-29</th>\n",
       "      <td>-49.7546</td>\n",
       "      <td>-49.2454</td>\n",
       "      <td>100</td>\n",
       "    </tr>\n",
       "    <tr>\n",
       "      <th>2016-03-31</th>\n",
       "      <td>-2.78871</td>\n",
       "      <td>2.21462</td>\n",
       "      <td>1.57409</td>\n",
       "    </tr>\n",
       "    <tr>\n",
       "      <th>2016-04-30</th>\n",
       "      <td>-100</td>\n",
       "      <td>23.2854</td>\n",
       "      <td>77.7146</td>\n",
       "    </tr>\n",
       "    <tr>\n",
       "      <th>2016-05-31</th>\n",
       "      <td>-1.63657</td>\n",
       "      <td>0.920623</td>\n",
       "      <td>1.71594</td>\n",
       "    </tr>\n",
       "    <tr>\n",
       "      <th>2016-06-30</th>\n",
       "      <td>-0.233053</td>\n",
       "      <td>0.327339</td>\n",
       "      <td>0.905714</td>\n",
       "    </tr>\n",
       "    <tr>\n",
       "      <th>2016-07-31</th>\n",
       "      <td>-0.192416</td>\n",
       "      <td>0.393367</td>\n",
       "      <td>0.799049</td>\n",
       "    </tr>\n",
       "    <tr>\n",
       "      <th>2016-08-31</th>\n",
       "      <td>-0.0776626</td>\n",
       "      <td>0.448642</td>\n",
       "      <td>0.629021</td>\n",
       "    </tr>\n",
       "    <tr>\n",
       "      <th>2016-09-30</th>\n",
       "      <td>0.0539834</td>\n",
       "      <td>0.456779</td>\n",
       "      <td>0.489237</td>\n",
       "    </tr>\n",
       "    <tr>\n",
       "      <th>2016-10-31</th>\n",
       "      <td>0.0140025</td>\n",
       "      <td>0.525154</td>\n",
       "      <td>0.460844</td>\n",
       "    </tr>\n",
       "    <tr>\n",
       "      <th>2016-11-30</th>\n",
       "      <td>0.205443</td>\n",
       "      <td>0.417766</td>\n",
       "      <td>0.376792</td>\n",
       "    </tr>\n",
       "    <tr>\n",
       "      <th>2016-12-31</th>\n",
       "      <td>0.278387</td>\n",
       "      <td>0.331415</td>\n",
       "      <td>0.390198</td>\n",
       "    </tr>\n",
       "    <tr>\n",
       "      <th>2017-01-31</th>\n",
       "      <td>0.280697</td>\n",
       "      <td>0.372384</td>\n",
       "      <td>0.346919</td>\n",
       "    </tr>\n",
       "    <tr>\n",
       "      <th>2017-02-28</th>\n",
       "      <td>0.285041</td>\n",
       "      <td>0.361867</td>\n",
       "      <td>0.353093</td>\n",
       "    </tr>\n",
       "    <tr>\n",
       "      <th>2017-03-31</th>\n",
       "      <td>0.347654</td>\n",
       "      <td>0.292443</td>\n",
       "      <td>0.359903</td>\n",
       "    </tr>\n",
       "    <tr>\n",
       "      <th>2017-04-30</th>\n",
       "      <td>0.430751</td>\n",
       "      <td>0.187775</td>\n",
       "      <td>0.381474</td>\n",
       "    </tr>\n",
       "    <tr>\n",
       "      <th>2017-05-31</th>\n",
       "      <td>0.655339</td>\n",
       "      <td>-0.0710211</td>\n",
       "      <td>0.415682</td>\n",
       "    </tr>\n",
       "    <tr>\n",
       "      <th>2017-06-30</th>\n",
       "      <td>3.31181</td>\n",
       "      <td>-2.71574</td>\n",
       "      <td>0.403935</td>\n",
       "    </tr>\n",
       "    <tr>\n",
       "      <th>2017-07-31</th>\n",
       "      <td>99.0593</td>\n",
       "      <td>-100</td>\n",
       "      <td>1.94066</td>\n",
       "    </tr>\n",
       "    <tr>\n",
       "      <th>2017-08-31</th>\n",
       "      <td>3.87817</td>\n",
       "      <td>-3.43729</td>\n",
       "      <td>0.55912</td>\n",
       "    </tr>\n",
       "    <tr>\n",
       "      <th>2017-09-30</th>\n",
       "      <td>3.5442</td>\n",
       "      <td>-2.93139</td>\n",
       "      <td>0.387192</td>\n",
       "    </tr>\n",
       "    <tr>\n",
       "      <th>2017-10-31</th>\n",
       "      <td>1.42152</td>\n",
       "      <td>-0.856326</td>\n",
       "      <td>0.434803</td>\n",
       "    </tr>\n",
       "    <tr>\n",
       "      <th>2017-11-30</th>\n",
       "      <td>0.590609</td>\n",
       "      <td>-0.0505683</td>\n",
       "      <td>0.45996</td>\n",
       "    </tr>\n",
       "    <tr>\n",
       "      <th>2017-12-31</th>\n",
       "      <td>-0.00667553</td>\n",
       "      <td>0.471901</td>\n",
       "      <td>0.534775</td>\n",
       "    </tr>\n",
       "    <tr>\n",
       "      <th>2018-01-31</th>\n",
       "      <td>-0.0585837</td>\n",
       "      <td>0.663579</td>\n",
       "      <td>0.395005</td>\n",
       "    </tr>\n",
       "    <tr>\n",
       "      <th>2018-02-28</th>\n",
       "      <td>0.290816</td>\n",
       "      <td>0.467659</td>\n",
       "      <td>0.241525</td>\n",
       "    </tr>\n",
       "    <tr>\n",
       "      <th>2018-03-31</th>\n",
       "      <td>0.305008</td>\n",
       "      <td>0.418727</td>\n",
       "      <td>0.276266</td>\n",
       "    </tr>\n",
       "  </tbody>\n",
       "</table>\n",
       "<p>112 rows × 3 columns</p>\n",
       "</div>"
      ],
      "text/plain": [
       "           HighYield_Investment    TIP_10Yr TermStructure\n",
       "Date                                                     \n",
       "2008-12-31             -9.63546    -89.3645           100\n",
       "2009-01-31             -65.7151    -33.2849           100\n",
       "2009-02-28             -64.8251    -34.1749           100\n",
       "2009-03-31             -1.95712    0.179295       2.77783\n",
       "2009-04-30              17.3739        -100       83.6261\n",
       "2009-05-31              14.3917        -100       86.6083\n",
       "2009-06-30              17.9919        -100       83.0081\n",
       "2009-07-31              30.7592        -100       70.2408\n",
       "2009-08-31               22.415        -100        78.585\n",
       "2009-09-30            -0.261719    0.519472      0.742248\n",
       "2009-10-31            0.0306787    0.471924      0.497398\n",
       "2009-11-30            0.0777897    0.734112      0.188098\n",
       "2009-12-31              0.10233     0.84406     0.0536101\n",
       "2010-01-31             0.125894    0.671525      0.202581\n",
       "2010-02-28             0.261173    0.380321      0.358506\n",
       "2010-03-31             0.201649    0.363524      0.434827\n",
       "2010-04-30             0.223326    0.331145      0.445529\n",
       "2010-05-31             0.237586     0.20519      0.557223\n",
       "2010-06-30             0.340333    0.021932      0.637735\n",
       "2010-07-31             0.317677   0.0542783      0.628045\n",
       "2010-08-31             0.348887  0.00377094      0.647342\n",
       "2010-09-30             0.352981   0.0346755      0.612344\n",
       "2010-10-31             0.422852  -0.0788976      0.656046\n",
       "2010-11-30             0.613385   -0.356597      0.743212\n",
       "2010-12-31              0.62452    -0.35219      0.727671\n",
       "2011-01-31             0.680769   -0.402723      0.721954\n",
       "2011-02-28             0.438258   -0.052859      0.614601\n",
       "2011-03-31             0.340021   0.0733587       0.58662\n",
       "2011-04-30               0.3133    0.103755      0.582945\n",
       "2011-05-31             0.330544    0.139077      0.530379\n",
       "...                         ...         ...           ...\n",
       "2015-10-31              56.0026        -100       44.9974\n",
       "2015-11-30              34.5605        -100       66.4395\n",
       "2015-12-31             -27.7841    -71.2159           100\n",
       "2016-01-31               22.811        -100        78.189\n",
       "2016-02-29             -49.7546    -49.2454           100\n",
       "2016-03-31             -2.78871     2.21462       1.57409\n",
       "2016-04-30                 -100     23.2854       77.7146\n",
       "2016-05-31             -1.63657    0.920623       1.71594\n",
       "2016-06-30            -0.233053    0.327339      0.905714\n",
       "2016-07-31            -0.192416    0.393367      0.799049\n",
       "2016-08-31           -0.0776626    0.448642      0.629021\n",
       "2016-09-30            0.0539834    0.456779      0.489237\n",
       "2016-10-31            0.0140025    0.525154      0.460844\n",
       "2016-11-30             0.205443    0.417766      0.376792\n",
       "2016-12-31             0.278387    0.331415      0.390198\n",
       "2017-01-31             0.280697    0.372384      0.346919\n",
       "2017-02-28             0.285041    0.361867      0.353093\n",
       "2017-03-31             0.347654    0.292443      0.359903\n",
       "2017-04-30             0.430751    0.187775      0.381474\n",
       "2017-05-31             0.655339  -0.0710211      0.415682\n",
       "2017-06-30              3.31181    -2.71574      0.403935\n",
       "2017-07-31              99.0593        -100       1.94066\n",
       "2017-08-31              3.87817    -3.43729       0.55912\n",
       "2017-09-30               3.5442    -2.93139      0.387192\n",
       "2017-10-31              1.42152   -0.856326      0.434803\n",
       "2017-11-30             0.590609  -0.0505683       0.45996\n",
       "2017-12-31          -0.00667553    0.471901      0.534775\n",
       "2018-01-31           -0.0585837    0.663579      0.395005\n",
       "2018-02-28             0.290816    0.467659      0.241525\n",
       "2018-03-31             0.305008    0.418727      0.276266\n",
       "\n",
       "[112 rows x 3 columns]"
      ]
     },
     "execution_count": 263,
     "metadata": {},
     "output_type": "execute_result"
    }
   ],
   "source": [
    "corp_bond_portfolio_unlimited"
   ]
  },
  {
   "cell_type": "code",
   "execution_count": 269,
   "metadata": {},
   "outputs": [
    {
     "data": {
      "text/plain": [
       "DatetimeIndex(['2008-12-31', '2009-01-31', '2009-02-28', '2009-03-31',\n",
       "               '2009-04-30', '2009-05-31', '2009-06-30', '2009-07-31',\n",
       "               '2009-08-31', '2009-09-30',\n",
       "               ...\n",
       "               '2017-06-30', '2017-07-31', '2017-08-31', '2017-09-30',\n",
       "               '2017-10-31', '2017-11-30', '2017-12-31', '2018-01-31',\n",
       "               '2018-02-28', '2018-03-31'],\n",
       "              dtype='datetime64[ns]', name='Date', length=112, freq=None)"
      ]
     },
     "execution_count": 269,
     "metadata": {},
     "output_type": "execute_result"
    }
   ],
   "source": [
    "pd.to_datetime(gov_bond_curve.index)"
   ]
  },
  {
   "cell_type": "code",
   "execution_count": 275,
   "metadata": {},
   "outputs": [],
   "source": [
    "gov_bond_portfolio.index = pd.to_datetime(gov_bond_portfolio.index)"
   ]
  },
  {
   "cell_type": "code",
   "execution_count": 277,
   "metadata": {},
   "outputs": [],
   "source": [
    "corp_bond_portfolio.index = pd.to_datetime(corp_bond_portfolio.index)"
   ]
  },
  {
   "cell_type": "code",
   "execution_count": 283,
   "metadata": {},
   "outputs": [],
   "source": [
    "US_equity_portfolio.index = pd.to_datetime(US_equity_portfolio.index, format='%Y%m')"
   ]
  },
  {
   "cell_type": "code",
   "execution_count": 286,
   "metadata": {},
   "outputs": [],
   "source": [
    "emerging_equity_portfolio.index = pd.to_datetime(emerging_equity_portfolio.index)"
   ]
  },
  {
   "cell_type": "code",
   "execution_count": 288,
   "metadata": {},
   "outputs": [],
   "source": [
    "global_equity_portfolio.index = pd.to_datetime(global_equity_portfolio.index, format='%Y%m')"
   ]
  },
  {
   "cell_type": "code",
   "execution_count": 291,
   "metadata": {},
   "outputs": [],
   "source": [
    "corp_bond_portfolio_selected = corp_bond_portfolio['2009-01':'2017-12']\n",
    "gov_bond_portfolio_selected = gov_bond_portfolio['2009-01':'2017-12']\n",
    "US_equity_portfolio_selected = US_equity_portfolio['2009-01':'2017-12']\n",
    "emerging_equity_portfolio_selected = emerging_equity_portfolio['2009-01':'2017-12']\n",
    "global_equity_portfolio_selected = global_equity_portfolio['2009-01':'2017-12']"
   ]
  },
  {
   "cell_type": "code",
   "execution_count": 321,
   "metadata": {},
   "outputs": [],
   "source": [
    "gov_bond_mean.index = pd.to_datetime(gov_bond_mean.index)\n",
    "corp_bond_mean.index = pd.to_datetime(corp_bond_mean.index)\n",
    "US_equity_mean.index = pd.to_datetime(US_equity_mean.index, format='%Y%m')\n",
    "emerging_equity_mean.index = pd.to_datetime(emerging_equity_mean.index)\n",
    "global_equity_mean.index = pd.to_datetime(global_equity_mean.index, format='%Y%m')"
   ]
  },
  {
   "cell_type": "code",
   "execution_count": 324,
   "metadata": {},
   "outputs": [],
   "source": [
    "gov_bond_mean_selected = gov_bond_mean['2009-01':'2017-12']\n",
    "corp_bond_mean_selected = corp_bond_mean['2009-01':'2017-12']\n",
    "US_equity_mean_selected = US_equity_mean['2009-01':'2017-12']\n",
    "emerging_equity_mean_selected = emerging_equity_mean['2009-01':'2017-12']\n",
    "global_equity_mean_selected = global_equity_mean['2009-01':'2017-12']"
   ]
  },
  {
   "cell_type": "code",
   "execution_count": 388,
   "metadata": {},
   "outputs": [],
   "source": [
    "US_equity_mean_selected = US_equity_mean_selected.to_period('M').to_timestamp('M')\n",
    "global_equity_mean_selected = global_equity_mean_selected.to_period('M').to_timestamp('M')\n",
    "US_equity_portfolio_selected = US_equity_portfolio_selected.to_period('M').to_timestamp('M')\n",
    "global_equity_portfolio_selected = global_equity_portfolio_selected.to_period('M').to_timestamp('M')"
   ]
  },
  {
   "cell_type": "code",
   "execution_count": 293,
   "metadata": {},
   "outputs": [],
   "source": [
    "# corp_bond_curve_selected = backtest(corp_bond_portfolio_selected, corp_bond_mean)\n",
    "# gov_bond_curve_selected = backtest(gov_bond_portfolio_selected, gov_bond_mean)\n",
    "# US_equity_curve_selected = backtest(US_equity_portfolio_selected, US_equity_mean)\n",
    "# global_equity_curve_selected = backtest(global_equity_portfolio_selected, global_equity_mean)\n",
    "# emerging_equity_curve_selected = backtest(emerging_equity_portfolio_selected, emerging_equity_mean)"
   ]
  },
  {
   "cell_type": "code",
   "execution_count": null,
   "metadata": {},
   "outputs": [],
   "source": []
  },
  {
   "cell_type": "code",
   "execution_count": null,
   "metadata": {},
   "outputs": [],
   "source": [
    "def backtest(portfolio,mean):\n",
    "    return ((portfolio.shift(1) * mean).fillna(0).sum(axis = 1) + 1).cumprod()"
   ]
  },
  {
   "cell_type": "code",
   "execution_count": 389,
   "metadata": {},
   "outputs": [],
   "source": [
    "def backtest_all(weight, *args):\n",
    "    w1,w2,w3,w4,w5 = weight\n",
    "    if w1+w2+w3+w4+w5 != 1: raise ValueError\n",
    "    p1,p2,p3,p4,p5,r1,r2,r3,r4,r5 = args\n",
    "    s1 = (p1.shift(1) * r1).fillna(0).sum(axis = 1)\n",
    "    s2 = (p2.shift(1) * r2).fillna(0).sum(axis = 1)\n",
    "    s3 = (p3.shift(1) * r3).fillna(0).sum(axis = 1)\n",
    "    s4 = (p4.shift(1) * r4).fillna(0).sum(axis = 1)\n",
    "    s5 = (p5.shift(1) * r5).fillna(0).sum(axis = 1)\n",
    "#     print(w3,s3)\n",
    "    f = w1 * s1 + w2 * s2 + w3 * s3\n",
    "#     print(f)\n",
    "    final = (f+1).cumprod()\n",
    "    return final"
   ]
  },
  {
   "cell_type": "code",
   "execution_count": 418,
   "metadata": {},
   "outputs": [],
   "source": [
    "corp_bond_portfolio_benchmark = corp_bond_portfolio_selected.copy()\n",
    "corp_bond_portfolio_benchmark[:] = 1/3\n",
    "gov_bond_portfolio_benchmark = gov_bond_portfolio_selected.copy() \n",
    "gov_bond_portfolio_benchmark[:] = 0.5\n",
    "US_equity_portfolio_benchmark = US_equity_portfolio_selected.copy()\n",
    "US_equity_portfolio_benchmark[:] = 1/3\n",
    "global_equity_portfolio_benchmark = global_equity_portfolio_selected.copy()\n",
    "global_equity_portfolio_benchmark[:] = 1/3\n",
    "emerging_equity_portfolio_benchmark = emerging_equity_portfolio_selected.copy()\n",
    "emerging_equity_portfolio_benchmark[:] = 0.5"
   ]
  },
  {
   "cell_type": "code",
   "execution_count": 419,
   "metadata": {},
   "outputs": [],
   "source": [
    "final_result_benchmark = backtest_all([0.1,0.1,0.3,0.3,0.2],corp_bond_portfolio_benchmark,gov_bond_portfolio_benchmark,\n",
    "             US_equity_portfolio_benchmark,global_equity_portfolio_benchmark,emerging_equity_portfolio_benchmark,\n",
    "            corp_bond_mean_selected,gov_bond_mean_selected,US_equity_mean_selected,global_equity_mean_selected\n",
    "                            ,emerging_equity_mean_selected)"
   ]
  },
  {
   "cell_type": "code",
   "execution_count": 398,
   "metadata": {},
   "outputs": [],
   "source": [
    "final_result = backtest_all([0.1,0.1,0.3,0.3,0.2],corp_bond_portfolio_selected,gov_bond_portfolio_selected,\n",
    "             US_equity_portfolio_benchmark,global_equity_portfolio_selected,emerging_equity_portfolio_selected,\n",
    "            corp_bond_mean_selected,gov_bond_mean_selected,US_equity_mean_selected,global_equity_mean_selected\n",
    "                            ,emerging_equity_mean_selected)"
   ]
  },
  {
   "cell_type": "code",
   "execution_count": 422,
   "metadata": {},
   "outputs": [],
   "source": [
    "final_result_benchmark.to_csv('final_result_benchmark.csv')\n",
    "final_result.to_csv('final_result.csv')"
   ]
  },
  {
   "cell_type": "code",
   "execution_count": 420,
   "metadata": {},
   "outputs": [
    {
     "data": {
      "image/png": "[encoded data removed]",
      "text/plain": [
       "<matplotlib.figure.Figure at 0x1a136d5470>"
      ]
     },
     "metadata": {},
     "output_type": "display_data"
    }
   ],
   "source": [
    "final_result_benchmark.plot()\n",
    "plt.show()"
   ]
  },
  {
   "cell_type": "code",
   "execution_count": 421,
   "metadata": {},
   "outputs": [
    {
     "data": {
      "text/plain": [
       "2.0618875408988648"
      ]
     },
     "execution_count": 421,
     "metadata": {},
     "output_type": "execute_result"
    }
   ],
   "source": [
    "calc_sharpe_ratio(final_result_benchmark)"
   ]
  },
  {
   "cell_type": "code",
   "execution_count": 402,
   "metadata": {},
   "outputs": [
    {
     "data": {
      "image/png": "[encoded data removed]",
      "text/plain": [
       "<matplotlib.figure.Figure at 0x1a1856c470>"
      ]
     },
     "metadata": {},
     "output_type": "display_data"
    }
   ],
   "source": [
    "final_result.plot()\n",
    "plt.show()"
   ]
  },
  {
   "cell_type": "code",
   "execution_count": 393,
   "metadata": {},
   "outputs": [],
   "source": [
    "def calc_sharpe_ratio(seq):\n",
    "    seq = seq.pct_change().fillna(0)\n",
    "    return np.mean(seq) / np.std(seq) * np.sqrt(12)"
   ]
  },
  {
   "cell_type": "code",
   "execution_count": 400,
   "metadata": {},
   "outputs": [
    {
     "data": {
      "text/plain": [
       "5.0952894058048974"
      ]
     },
     "execution_count": 400,
     "metadata": {},
     "output_type": "execute_result"
    }
   ],
   "source": [
    "calc_sharpe_ratio(final_result)"
   ]
  },
  {
   "cell_type": "code",
   "execution_count": null,
   "metadata": {},
   "outputs": [],
   "source": []
  }
 ],
 "metadata": {
  "kernelspec": {
   "display_name": "Python 3",
   "language": "python",
   "name": "python3"
  },
  "language_info": {
   "codemirror_mode": {
    "name": "ipython",
    "version": 3
   },
   "file_extension": ".py",
   "mimetype": "text/x-python",
   "name": "python",
   "nbconvert_exporter": "python",
   "pygments_lexer": "ipython3",
   "version": "3.6.3"
  },
  "varInspector": {
   "cols": {
    "lenName": 16,
    "lenType": 16,
    "lenVar": 40
   },
   "kernels_config": {
    "python": {
     "delete_cmd_postfix": "",
     "delete_cmd_prefix": "del ",
     "library": "var_list.py",
     "varRefreshCmd": "print(var_dic_list())"
    },
    "r": {
     "delete_cmd_postfix": ") ",
     "delete_cmd_prefix": "rm(",
     "library": "var_list.r",
     "varRefreshCmd": "cat(var_dic_list()) "
    }
   },
   "types_to_exclude": [
    "module",
    "function",
    "builtin_function_or_method",
    "instance",
    "_Feature"
   ],
   "window_display": false
  }
 },
 "nbformat": 4,
 "nbformat_minor": 2
}
