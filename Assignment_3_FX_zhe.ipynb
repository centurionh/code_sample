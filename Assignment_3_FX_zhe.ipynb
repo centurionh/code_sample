{
 "cells": [
  {
   "cell_type": "code",
   "execution_count": 381,
   "metadata": {},
   "outputs": [],
   "source": [
    "import numpy as np\n",
    "import pandas as pd\n",
    "import statsmodels.api as sm\n",
    "import statsmodels.tsa as tsa\n",
    "from sklearn.model_selection import train_test_split, TimeSeriesSplit\n",
    "from sklearn.metrics import mean_squared_error\n",
    "\n",
    "FX_PRL = pd.read_csv('FX_PRL.csv',usecols=range(1,10), index_col='Time')\n",
    "FX_PRL.index = pd.to_datetime(FX_PRL.index)\n",
    "FX_PRL['log_mid_price'] = 0.5*(np.log(FX_PRL.BID_PRICE) + np.log(FX_PRL.ASK_PRICE))\n",
    "FX_PRL['log_2sRt'] = FX_PRL.log_mid_price - FX_PRL.log_mid_price.shift(2)"
   ]
  },
  {
   "cell_type": "code",
   "execution_count": 338,
   "metadata": {},
   "outputs": [],
   "source": [
    "def calc_z(data,sample_interval='2s'):\n",
    "    n = data.resample('10min',closed='right').count().BID_SIZE.values\n",
    "    K = data.resample(sample_interval,closed='right').last().resample('10min',closed='left').count()['BID_SIZE'].values\n",
    "    return (n-K+1)/K, K, n\n",
    "\n",
    "def var_All(data):\n",
    "    def assist_func(input_data):\n",
    "        input_data_forward1 = input_data.shift(-1)\n",
    "        res = np.sum(np.power((input_data_forward1 - input_data).dropna().values, 2))\n",
    "        return res\n",
    "    res = data.log_2sRt.resample('10min',closed='right').apply(assist_func).values\n",
    "    return res\n",
    "\n",
    "def var_T(data,K,sample_interval='2s'):\n",
    "    def assist_func(input_data):\n",
    "        input_data_forward1 = input_data.shift(-1)\n",
    "        res = np.sum(np.power((input_data_forward1 - input_data).dropna().values, 2))\n",
    "        return res\n",
    "    res = np.divide(data.log_2sRt.resample('2s',closed='right').last().resample('10min',closed='left').apply(assist_func).values,K)\n",
    "    return res\n",
    "\n",
    "def TSRV(XXKT, XXAllT, z, n):\n",
    "    return np.divide(XXKT - np.divide(z,n)*XXAllT, 1 - np.divide(z,n) )\n",
    "\n",
    "def return_TSRV(symbol):\n",
    "    data = FX_PRL[FX_PRL.Symbol==symbol]\n",
    "    z, K, n = calc_z(data)\n",
    "    XXKT = var_T(data,K,sample_interval='2s')\n",
    "    XXAllT = var_All(data)\n",
    "    return TSRV(XXKT, XXAllT, z, n)\n",
    "\n",
    "def calc_RV30min(data):\n",
    "    return np.array(list(map(lambda i: data[i-3:i].sum(), list(range(3,len(data)+1)))))/3\n",
    "\n",
    "def calc_RV1hr(data):\n",
    "    return np.array(list(map(lambda i: data[i-6:i].sum(), list(range(6,len(data)+1)))))/6\n",
    "\n",
    "def construct_dataset_forRegression(RV10min, RV30min, RV1hr):\n",
    "    return sm.add_constant(np.matrix([RV10min[5:-1], RV30min[3:-1], RV1hr[:-1]]).T)"
   ]
  },
  {
   "cell_type": "code",
   "execution_count": 334,
   "metadata": {},
   "outputs": [],
   "source": [
    "RV10min_EURJPY = np.sqrt(return_TSRV('EBS_BOOK::EUR/JPY'))\n",
    "RV10min_EURUSD = np.sqrt(return_TSRV('EBS_BOOK::EUR/USD'))\n",
    "RV10min_USDJPY = np.sqrt(return_TSRV('EBS_BOOK::USD/JPY'))\n",
    "\n",
    "RV30min_EURJPY = calc_RV30min(RV10min_EURJPY)\n",
    "RV30min_EURUSD = calc_RV30min(RV10min_EURUSD)\n",
    "RV30min_USDJPY = calc_RV30min(RV10min_USDJPY)\n",
    "\n",
    "RV1hr_EURJPY = calc_RV1hr(RV10min_EURJPY)\n",
    "RV1hr_EURUSD = calc_RV1hr(RV10min_EURUSD)\n",
    "RV1hr_USDJPY = calc_RV1hr(RV10min_USDJPY)"
   ]
  },
  {
   "cell_type": "markdown",
   "metadata": {},
   "source": [
    "## OLS"
   ]
  },
  {
   "cell_type": "code",
   "execution_count": 357,
   "metadata": {},
   "outputs": [],
   "source": [
    "# OLS function\n",
    "def OLS(RV10min, RV30min, RV1hr):\n",
    "    data_regression = construct_dataset_forRegression(RV10min, RV30min, RV1hr)\n",
    "    RV10min_tplus10 = RV10min[6:]\n",
    "    X_train, X_test, y_train, y_test = train_test_split(data_regression, RV10min_tplus10, test_size=0.3, shuffle=False)\n",
    "    model = sm.OLS(y_train,X_train)\n",
    "    result = model.fit()\n",
    "    print(result.summary())\n",
    "    y_predict = result.predict(X_test)\n",
    "    print('---------------------')\n",
    "    print('out of sample RMSE = ', mean_squared_error(y_test, y_predict))"
   ]
  },
  {
   "cell_type": "code",
   "execution_count": 358,
   "metadata": {},
   "outputs": [
    {
     "name": "stdout",
     "output_type": "stream",
     "text": [
      "                            OLS Regression Results                            \n",
      "==============================================================================\n",
      "Dep. Variable:                      y   R-squared:                       0.521\n",
      "Model:                            OLS   Adj. R-squared:                  0.445\n",
      "Method:                 Least Squares   F-statistic:                     6.884\n",
      "Date:                Wed, 21 Feb 2018   Prob (F-statistic):            0.00251\n",
      "Time:                        19:13:58   Log-Likelihood:                 226.16\n",
      "No. Observations:                  23   AIC:                            -444.3\n",
      "Df Residuals:                      19   BIC:                            -439.8\n",
      "Df Model:                           3                                         \n",
      "Covariance Type:            nonrobust                                         \n",
      "==============================================================================\n",
      "                 coef    std err          t      P>|t|      [0.025      0.975]\n",
      "------------------------------------------------------------------------------\n",
      "const       4.503e-06   8.38e-06      0.537      0.597    -1.3e-05    2.21e-05\n",
      "x1             0.4657      0.305      1.527      0.143      -0.173       1.104\n",
      "x2             0.0979      0.559      0.175      0.863      -1.073       1.269\n",
      "x3             0.2360      0.502      0.470      0.644      -0.815       1.287\n",
      "==============================================================================\n",
      "Omnibus:                       40.528   Durbin-Watson:                   2.013\n",
      "Prob(Omnibus):                  0.000   Jarque-Bera (JB):              137.859\n",
      "Skew:                           3.052   Prob(JB):                     1.16e-30\n",
      "Kurtosis:                      13.324   Cond. No.                     2.41e+05\n",
      "==============================================================================\n",
      "\n",
      "Warnings:\n",
      "[1] Standard Errors assume that the covariance matrix of the errors is correctly specified.\n",
      "[2] The condition number is large, 2.41e+05. This might indicate that there are\n",
      "strong multicollinearity or other numerical problems.\n",
      "---------------------\n",
      "out of sample RMSE =  1.63462044492e-10\n"
     ]
    }
   ],
   "source": [
    "OLS(RV10min_EURJPY, RV30min_EURJPY, RV1hr_EURJPY)"
   ]
  },
  {
   "cell_type": "code",
   "execution_count": 359,
   "metadata": {},
   "outputs": [
    {
     "name": "stdout",
     "output_type": "stream",
     "text": [
      "                            OLS Regression Results                            \n",
      "==============================================================================\n",
      "Dep. Variable:                      y   R-squared:                       0.216\n",
      "Model:                            OLS   Adj. R-squared:                  0.092\n",
      "Method:                 Least Squares   F-statistic:                     1.747\n",
      "Date:                Wed, 21 Feb 2018   Prob (F-statistic):              0.191\n",
      "Time:                        19:14:01   Log-Likelihood:                 224.92\n",
      "No. Observations:                  23   AIC:                            -441.8\n",
      "Df Residuals:                      19   BIC:                            -437.3\n",
      "Df Model:                           3                                         \n",
      "Covariance Type:            nonrobust                                         \n",
      "==============================================================================\n",
      "                 coef    std err          t      P>|t|      [0.025      0.975]\n",
      "------------------------------------------------------------------------------\n",
      "const       9.297e-06   7.26e-06      1.281      0.216   -5.89e-06    2.45e-05\n",
      "x1             0.2431      0.320      0.760      0.457      -0.427       0.913\n",
      "x2             0.3189      0.420      0.759      0.457      -0.561       1.199\n",
      "x3             0.0002      0.000      0.431      0.671      -0.001       0.001\n",
      "==============================================================================\n",
      "Omnibus:                       44.402   Durbin-Watson:                   2.056\n",
      "Prob(Omnibus):                  0.000   Jarque-Bera (JB):              176.552\n",
      "Skew:                           3.343   Prob(JB):                     4.59e-39\n",
      "Kurtosis:                      14.813   Cond. No.                     1.59e+05\n",
      "==============================================================================\n",
      "\n",
      "Warnings:\n",
      "[1] Standard Errors assume that the covariance matrix of the errors is correctly specified.\n",
      "[2] The condition number is large, 1.59e+05. This might indicate that there are\n",
      "strong multicollinearity or other numerical problems.\n",
      "---------------------\n",
      "out of sample RMSE =  6.8143855246e-11\n"
     ]
    }
   ],
   "source": [
    "OLS(RV10min_EURUSD, RV30min_EURUSD, RV1hr_EURUSD)"
   ]
  },
  {
   "cell_type": "code",
   "execution_count": 360,
   "metadata": {},
   "outputs": [
    {
     "name": "stdout",
     "output_type": "stream",
     "text": [
      "                            OLS Regression Results                            \n",
      "==============================================================================\n",
      "Dep. Variable:                      y   R-squared:                       0.523\n",
      "Model:                            OLS   Adj. R-squared:                  0.447\n",
      "Method:                 Least Squares   F-statistic:                     6.933\n",
      "Date:                Wed, 21 Feb 2018   Prob (F-statistic):            0.00242\n",
      "Time:                        19:14:04   Log-Likelihood:                 238.63\n",
      "No. Observations:                  23   AIC:                            -469.3\n",
      "Df Residuals:                      19   BIC:                            -464.7\n",
      "Df Model:                           3                                         \n",
      "Covariance Type:            nonrobust                                         \n",
      "==============================================================================\n",
      "                 coef    std err          t      P>|t|      [0.025      0.975]\n",
      "------------------------------------------------------------------------------\n",
      "const       7.222e-06   4.99e-06      1.447      0.164   -3.23e-06    1.77e-05\n",
      "x1             0.4310      0.316      1.364      0.189      -0.230       1.092\n",
      "x2             0.2463      0.341      0.722      0.479      -0.467       0.960\n",
      "x3             0.0002      0.000      0.742      0.467      -0.000       0.001\n",
      "==============================================================================\n",
      "Omnibus:                        0.502   Durbin-Watson:                   2.004\n",
      "Prob(Omnibus):                  0.778   Jarque-Bera (JB):                0.611\n",
      "Skew:                          -0.259   Prob(JB):                        0.737\n",
      "Kurtosis:                       2.393   Cond. No.                     2.59e+05\n",
      "==============================================================================\n",
      "\n",
      "Warnings:\n",
      "[1] Standard Errors assume that the covariance matrix of the errors is correctly specified.\n",
      "[2] The condition number is large, 2.59e+05. This might indicate that there are\n",
      "strong multicollinearity or other numerical problems.\n",
      "---------------------\n",
      "out of sample RMSE =  1.29165619198e-10\n"
     ]
    }
   ],
   "source": [
    "OLS(RV10min_USDJPY, RV30min_USDJPY, RV1hr_USDJPY)"
   ]
  },
  {
   "cell_type": "markdown",
   "metadata": {},
   "source": [
    "## AR(6)"
   ]
  },
  {
   "cell_type": "code",
   "execution_count": 422,
   "metadata": {},
   "outputs": [
    {
     "name": "stdout",
     "output_type": "stream",
     "text": [
      "[  1.15958313e-05   5.33760415e-01   6.09975157e-02   1.31080382e-01\n",
      "   1.75127256e-01  -4.02884787e-02  -1.33164402e-01]\n",
      "out of sample RMSE =  1.72556804706e-10\n"
     ]
    }
   ],
   "source": [
    "AR_model = tsa.ar_model.AR(RV10min_EURJPY)\n",
    "result = AR_model.fit(maxlag=6,method='mle')\n",
    "print(result.params)\n",
    "print('out of sample RMSE = ', mean_squared_error(RV10min_EURJPY, result.fittedvalues))"
   ]
  },
  {
   "cell_type": "code",
   "execution_count": 423,
   "metadata": {},
   "outputs": [
    {
     "name": "stdout",
     "output_type": "stream",
     "text": [
      "[ 0.00488232 -0.01415113 -0.02717678 -0.01994303 -0.02039321 -0.02530495\n",
      " -0.02538412]\n",
      "out of sample RMSE =  1.98860425711e-05\n"
     ]
    },
    {
     "name": "stderr",
     "output_type": "stream",
     "text": [
      "/Users/zhengyanghe/anaconda/lib/python3.6/site-packages/statsmodels/base/model.py:496: ConvergenceWarning: Maximum Likelihood optimization failed to converge. Check mle_retvals\n",
      "  \"Check mle_retvals\", ConvergenceWarning)\n"
     ]
    }
   ],
   "source": [
    "AR_model = tsa.ar_model.AR(RV10min_EURUSD)\n",
    "result = AR_model.fit(maxlag=6,method='mle')\n",
    "print(result.params)\n",
    "print('out of sample RMSE = ', mean_squared_error(RV10min_EURJPY, result.fittedvalues))"
   ]
  },
  {
   "cell_type": "code",
   "execution_count": 424,
   "metadata": {},
   "outputs": [
    {
     "name": "stdout",
     "output_type": "stream",
     "text": [
      "[ 0.00422965 -0.02571068 -0.02629834 -0.0409161  -0.00549284 -0.01391141\n",
      " -0.01975841]\n",
      "out of sample RMSE =  1.53311599877e-05\n"
     ]
    },
    {
     "name": "stderr",
     "output_type": "stream",
     "text": [
      "/Users/zhengyanghe/anaconda/lib/python3.6/site-packages/statsmodels/base/model.py:496: ConvergenceWarning: Maximum Likelihood optimization failed to converge. Check mle_retvals\n",
      "  \"Check mle_retvals\", ConvergenceWarning)\n"
     ]
    }
   ],
   "source": [
    "AR_model = tsa.ar_model.AR(RV10min_USDJPY)\n",
    "result = AR_model.fit(maxlag=6,method='mle')\n",
    "print(result.params)\n",
    "print('out of sample RMSE = ', mean_squared_error(RV10min_EURJPY, result.fittedvalues))"
   ]
  }
 ],
 "metadata": {
  "kernelspec": {
   "display_name": "Python 3",
   "language": "python",
   "name": "python3"
  },
  "language_info": {
   "codemirror_mode": {
    "name": "ipython",
    "version": 3
   },
   "file_extension": ".py",
   "mimetype": "text/x-python",
   "name": "python",
   "nbconvert_exporter": "python",
   "pygments_lexer": "ipython3",
   "version": "3.6.1"
  }
 },
 "nbformat": 4,
 "nbformat_minor": 2
}
