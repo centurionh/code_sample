{
 "cells": [
  {
   "cell_type": "code",
   "execution_count": 146,
   "metadata": {
    "collapsed": true
   },
   "outputs": [],
   "source": [
    "import numpy as np\n",
    "import matplotlib.pyplot as plt\n",
    "import scipy.stats.mstats \n",
    "from scipy.stats import norm\n",
    "\n",
    "T = 5\n",
    "Ta = 0.5\n",
    "S0 = 2450\n",
    "K =2450\n",
    "r = 0.0091\n",
    "sigma = 0.135\n",
    "y = 0.0195\n",
    "def AC_BBMC(T,Ta,m,n,S0,K,r,sigma,y):\n",
    "    np.random.seed(10)\n",
    "    mu = r - y - 0.5*pow(sigma,2)\n",
    "    payoff = np.zeros(n)\n",
    "    for i in range(n):\n",
    "        S = np.zeros(m)\n",
    "        x = np.random.normal(size=m)\n",
    "        t = Ta/m\n",
    "        S[0] = S0 * np.exp(mu*(T-Ta+t)+sigma*np.sqrt(T-Ta+t)*x[0])\n",
    "        for j in range(1,m):\n",
    "            S[j] = S[j-1] * np.exp(mu*t+sigma*np.sqrt(t)*x[j]) \n",
    "        AT = S.mean()\n",
    "        payoff[i] = 100*max(AT/K-1,0)*np.exp(-T*r)\n",
    "    return payoff.mean(), payoff.std()/np.sqrt(n)"
   ]
  },
  {
   "cell_type": "code",
   "execution_count": 147,
   "metadata": {},
   "outputs": [],
   "source": [
    "#m = np.arange(2,202,10)\n",
    "m = [1,2,6,24,120]\n",
    "n = 1000\n",
    "AC_value = np.zeros(len(m))\n",
    "Std_error_1k = np.zeros(len(m))\n",
    "i = 0\n",
    "for m_ in m:\n",
    "    AC_value[i],Std_error_1k[i] = AC_BBMC(T,Ta,m_,n,S0,K,r,sigma,y)\n",
    "    i += 1"
   ]
  },
  {
   "cell_type": "code",
   "execution_count": 150,
   "metadata": {},
   "outputs": [
    {
     "name": "stdout",
     "output_type": "stream",
     "text": [
      "estimated value:  [ 7.75958058  8.00353532  8.45070015  9.19069971  8.63081982]\n",
      "standard error:  [ 0.50310685  0.49347379  0.52999458  0.54030332  0.51290409]\n"
     ]
    }
   ],
   "source": [
    "print('estimated value: ',AC_value)\n",
    "print('standard error: ',Std_error_1k)\n"
   ]
  },
  {
   "cell_type": "code",
   "execution_count": 151,
   "metadata": {},
   "outputs": [
    {
     "name": "stdout",
     "output_type": "stream",
     "text": [
      "estimated value:  [ 8.77214549  8.76302927  8.73185601  8.74609128  8.47425943]\n",
      "standard error:  [ 0.17256786  0.1703988   0.17143375  0.17016715  0.16964077]\n"
     ]
    }
   ],
   "source": [
    "n = 10000\n",
    "AC_value = np.zeros(len(m))\n",
    "Std_error_10k = np.zeros(len(m))\n",
    "i = 0\n",
    "for m_ in m:\n",
    "    AC_value[i],Std_error_10k[i] = AC_BBMC(T,Ta,m_,n,S0,K,r,sigma,y)\n",
    "    i += 1\n",
    "print('estimated value: ',AC_value)\n",
    "print('standard error: ',Std_error_10k)"
   ]
  },
  {
   "cell_type": "code",
   "execution_count": 152,
   "metadata": {},
   "outputs": [
    {
     "name": "stdout",
     "output_type": "stream",
     "text": [
      "estimated value:  [ 8.8508995   8.73370533  8.72811838  8.6052651   8.51762778]\n",
      "standard error:  [ 0.05541099  0.05442749  0.05404064  0.05350337  0.05316595]\n"
     ]
    }
   ],
   "source": [
    "n = 100000\n",
    "AC_value = np.zeros(len(m))\n",
    "Std_error_100k = np.zeros(len(m))\n",
    "i = 0\n",
    "for m_ in m:\n",
    "    AC_value[i],Std_error_100k[i] = AC_BBMC(T,Ta,m_,n,S0,K,r,sigma,y)\n",
    "    i += 1\n",
    "print('estimated value: ',AC_value)\n",
    "print('standard error: ',Std_error_100k)"
   ]
  },
  {
   "cell_type": "code",
   "execution_count": 153,
   "metadata": {},
   "outputs": [
    {
     "name": "stdout",
     "output_type": "stream",
     "text": [
      "estimated value:  [ 8.90650536  8.73797852  8.68121874  8.66891953  8.66288835]\n",
      "standard error:  [ 0.01763662  0.01721941  0.01705124  0.01699148  0.01698418]\n"
     ]
    }
   ],
   "source": [
    "n = 1000000\n",
    "AC_value = np.zeros(len(m))\n",
    "Std_error_1000k = np.zeros(len(m))\n",
    "i = 0\n",
    "for m_ in m:\n",
    "    AC_value[i],Std_error_100k[i] = AC_BBMC(T,Ta,m_,n,S0,K,r,sigma,y)\n",
    "    i += 1\n",
    "print('estimated value: ',AC_value)\n",
    "print('standard error: ',Std_error_100k)"
   ]
  },
  {
   "cell_type": "markdown",
   "metadata": {},
   "source": [
    "### C\n"
   ]
  },
  {
   "cell_type": "code",
   "execution_count": 119,
   "metadata": {},
   "outputs": [],
   "source": [
    "def BSC(S,K,T,r,y,sigma):\n",
    "    d1 = (np.log(S/K) + (r-y)*T)/(sigma*np.sqrt(T))+sigma*np.sqrt(T)/2\n",
    "    d2 = d1 - sigma*np.sqrt(T)\n",
    "    Call = S*np.exp(-y*T)*norm.cdf(d1) -  K*np.exp(-r*T)*norm.cdf(d2)\n",
    "    return Call\n",
    "\n",
    "def AC_GCCV(T,Ta,m,n,S0,K,r,sigma,y,beta,EC):\n",
    "    mu = r - y - 0.5*pow(sigma,2)\n",
    "    payoff = np.zeros(n)\n",
    "    ACT_list = np.zeros(n)\n",
    "    GCT_list = np.zeros(n)\n",
    "    for i in range(n):\n",
    "        S = np.zeros(m)\n",
    "        x = np.random.normal(size=m)\n",
    "        t = Ta/m\n",
    "        S[0] = S0 * np.exp(mu*(T-Ta+t)+sigma*np.sqrt(T-Ta+t)*x[0])\n",
    "        for j in range(1,m):\n",
    "            S[j] = S[j-1] * np.exp(mu*t+sigma*np.sqrt(t)*x[j]) \n",
    "        ACT_list[i] = 100*max((S.mean()-K)/S0,0) * np.exp(-T*r)  \n",
    "        GCT_list[i] = 100*max((scipy.stats.mstats.gmean(S)-K)/S0,0) * np.exp(-T*r)  \n",
    "    EACT = beta * EC + np.sum((ACT_list - beta * GCT_list))/n\n",
    "    std_error = (beta * EC + (ACT_list - beta * GCT_list)).std()/np.sqrt(n)\n",
    "    return EACT, ACT_list, GCT_list, std_error"
   ]
  },
  {
   "cell_type": "code",
   "execution_count": 120,
   "metadata": {},
   "outputs": [
    {
     "name": "stdout",
     "output_type": "stream",
     "text": [
      "n = 1000, Geometric average control variates estimation =  8.53749775717\n",
      "--------- Optimal beta =  1.00307485609 ; standard error =  0.00196399744654\n",
      "n = 10000, Geometric average control variates estimation =  8.53420126034\n",
      "--------- Optimal beta =  1.00223751452 ; standard error =  0.000568668232531\n",
      "n = 100000, Geometric average control variates estimation =  8.53470614946\n",
      "--------- Optimal beta =  1.00218570003 ; standard error =  0.000179569068151\n"
     ]
    }
   ],
   "source": [
    "m = 120\n",
    "mu_g = (r-y-pow(sigma,2)/2)*((T-Ta)*m+Ta/m*(1+m)*m/2)/m\n",
    "\n",
    "sigma2_g = pow(sigma,2)*(T-Ta+Ta/m)*(m+(1+m)*m/2)\n",
    "for i in range(2,m):\n",
    "    sigma2_g += pow(sigma,2)*(T-Ta+i*Ta/m)*(m-i)\n",
    "sigma2_g = sigma2_g / pow(m,2)\n",
    "F_G_T =S0*np.exp(mu_g+sigma2_g/2)\n",
    "sigma_eff = np.sqrt(sigma2_g/T)\n",
    "EC_g = 100*BSC(F_G_T/K,1,T,r,r,sigma_eff)\n",
    "\n",
    "n = 1000\n",
    "EACT, ACT_list, GCT_list,std_error = AC_GCCV(T,Ta,m,n,S0,K,r,sigma,y,1,EC_g)\n",
    "beta_ = np.cov(ACT_list, GCT_list)[0,1] /np.var(GCT_list)\n",
    "EACT_,tmp1,tmp2,std_error = AC_GCCV(T,Ta,m,n,S0,K,r,sigma,y,beta_,EC_g)\n",
    "print('n = 1000, Geometric average control variates estimation = ', EACT_)\n",
    "print('--------- Optimal beta = ', beta_, '; standard error = ', std_error)\n",
    "\n",
    "n = 10000\n",
    "EACT, ACT_list, GCT_list,std_error = AC_GCCV(T,Ta,m,n,S0,K,r,sigma,y,1,EC_g)\n",
    "beta_ = np.cov(ACT_list, GCT_list)[0,1] /np.var(GCT_list)\n",
    "EACT_,tmp1,tmp2,std_error = AC_GCCV(T,Ta,m,n,S0,K,r,sigma,y,beta_,EC_g)\n",
    "print('n = 10000, Geometric average control variates estimation = ', EACT_)\n",
    "print('--------- Optimal beta = ', beta_, '; standard error = ', std_error)\n",
    "\n",
    "n = 100000\n",
    "EACT, ACT_list, GCT_list,std_error = AC_GCCV(T,Ta,m,n,S0,K,r,sigma,y,1,EC_g)\n",
    "beta_ = np.cov(ACT_list, GCT_list)[0,1] /np.var(GCT_list)\n",
    "EACT_,tmp1,tmp2,std_error = AC_GCCV(T,Ta,m,n,S0,K,r,sigma,y,beta_,EC_g)\n",
    "print('n = 100000, Geometric average control variates estimation = ', EACT_)\n",
    "print('--------- Optimal beta = ', beta_, '; standard error = ', std_error)"
   ]
  },
  {
   "cell_type": "code",
   "execution_count": 121,
   "metadata": {
    "collapsed": true
   },
   "outputs": [],
   "source": [
    "def AC_ECCV(T,Ta,m,n,S0,K,r,sigma,y,beta,EC):\n",
    "    mu = r - y - 0.5*pow(sigma,2)\n",
    "    payoff = np.zeros(n)\n",
    "    ACT_list = np.zeros(n)\n",
    "    ECT_list = np.zeros(n)\n",
    "    for i in range(n):\n",
    "        S = np.zeros(m)\n",
    "        x = np.random.normal(size=m)\n",
    "        t = Ta/m\n",
    "        S[0] = S0 * np.exp(mu*(T-Ta+t)+sigma*np.sqrt(T-Ta+t)*x[0])\n",
    "        for j in range(1,m):\n",
    "            S[j] = S[j-1] * np.exp(mu*t+sigma*np.sqrt(t)*x[j]) \n",
    "        ACT_list[i] = 100*max((S.mean()-K)/S0,0) * np.exp(-T*r)  \n",
    "        ECT_list[i] = 100*max((S[-1]-K)/S0,0) * np.exp(-T*r)  \n",
    "    EACT = beta * EC + np.sum((ACT_list - beta * ECT_list))/n\n",
    "    std_error = (beta * EC + (ACT_list - beta * ECT_list)).std()/np.sqrt(n)\n",
    "    return EACT, ACT_list, ECT_list, std_error"
   ]
  },
  {
   "cell_type": "code",
   "execution_count": 122,
   "metadata": {},
   "outputs": [
    {
     "name": "stdout",
     "output_type": "stream",
     "text": [
      "n = 1000, European option control variates estimation =  8.56859907047\n",
      "--------- Optimal beta =  0.946745552912 ; standard error =  0.112377223842\n",
      "n = 10000, European option control variates estimation =  8.63494924883\n",
      "--------- Optimal beta =  0.939379278477 ; standard error =  0.0389249604701\n",
      "n = 100000, European option control variates estimation =  8.68114961891\n",
      "--------- Optimal beta =  0.937735408681 ; standard error =  0.0120228637106\n"
     ]
    }
   ],
   "source": [
    "m = 120\n",
    "EC_E = 100*BSC(S0/K,1,T,r,y,sigma)\n",
    "\n",
    "n = 1000\n",
    "EACT, ACT_list, ECT_list, std_error = AC_ECCV(T,Ta,m,n,S0,K,r,sigma,y,1,EC_E)\n",
    "beta_ = np.cov(ACT_list, ECT_list)[0,1] /np.var(ECT_list)\n",
    "EACT_,tmp1,tmp2, std_error = AC_ECCV(T,Ta,m,n,S0,K,r,sigma,y,beta_,EC_E)\n",
    "print('n = 1000, European option control variates estimation = ', EACT_)\n",
    "print('--------- Optimal beta = ', beta_, '; standard error = ', std_error)\n",
    "\n",
    "n = 10000\n",
    "EACT, ACT_list, ECT_list, std_error = AC_ECCV(T,Ta,m,n,S0,K,r,sigma,y,1,EC_E)\n",
    "beta_ = np.cov(ACT_list, ECT_list)[0,1] /np.var(ECT_list)\n",
    "EACT_,tmp1,tmp2, std_error = AC_ECCV(T,Ta,m,n,S0,K,r,sigma,y,beta_,EC_E)\n",
    "print('n = 10000, European option control variates estimation = ', EACT_)\n",
    "print('--------- Optimal beta = ', beta_, '; standard error = ', std_error)\n",
    "\n",
    "n = 100000\n",
    "EACT, ACT_list, ECT_list, std_error = AC_ECCV(T,Ta,m,n,S0,K,r,sigma,y,1,EC_E)\n",
    "beta_ = np.cov(ACT_list, ECT_list)[0,1] /np.var(ECT_list)\n",
    "EACT_,tmp1,tmp2, std_error = AC_ECCV(T,Ta,m,n,S0,K,r,sigma,y,beta_,EC_E)\n",
    "print('n = 100000, European option control variates estimation = ', EACT_)\n",
    "print('--------- Optimal beta = ', beta_, '; standard error = ', std_error)\n"
   ]
  },
  {
   "cell_type": "code",
   "execution_count": 123,
   "metadata": {
    "collapsed": true
   },
   "outputs": [],
   "source": [
    "def AC_multiCV(T,Ta,m,n,S0,K,r,sigma,y,betas, ECs):\n",
    "    beta1, beta2 = betas\n",
    "    EC_g, EC_E = ECs\n",
    "    mu = r - y - 0.5*pow(sigma,2)\n",
    "    payoff = np.zeros(n)\n",
    "    ACT_list = np.zeros(n)\n",
    "    ECT_list = np.zeros(n)\n",
    "    GCT_list = np.zeros(n)\n",
    "    for i in range(n):\n",
    "        S = np.zeros(m)\n",
    "        x = np.random.normal(size=m)\n",
    "        t = Ta/m\n",
    "        S[0] = S0 * np.exp(mu*(T-Ta+t)+sigma*np.sqrt(T-Ta+t)*x[0])\n",
    "        for j in range(1,m):\n",
    "            S[j] = S[j-1] * np.exp(mu*t+sigma*np.sqrt(t)*x[j]) \n",
    "        ACT_list[i] = 100*max((S.mean()-K)/S0,0) * np.exp(-T*r)  \n",
    "        ECT_list[i] = 100*max((S[-1]-K)/S0,0) * np.exp(-T*r)  \n",
    "        GCT_list[i] = 100*max((scipy.stats.mstats.gmean(S)-K)/S0,0) * np.exp(-T*r)\n",
    "    EACT = beta1 * EC_g + beta2 * EC_E + np.sum((ACT_list - beta1 * GCT_list - beta2 * ECT_list))/n\n",
    "    std_error = (beta1 * EC_g + beta2 * EC_E +(ACT_list - beta1 * GCT_list - beta2 * ECT_list)).std()/np.sqrt(n)\n",
    "    return EACT, ACT_list, GCT_list, ECT_list, std_error"
   ]
  },
  {
   "cell_type": "code",
   "execution_count": 124,
   "metadata": {},
   "outputs": [
    {
     "name": "stdout",
     "output_type": "stream",
     "text": [
      "n = 1000, Multi control variates estimation =  8.54788976742\n",
      "--------- Optimal beta =  [[ 0.95820188]\n",
      " [ 0.03917803]] ; standard error =  0.00558219546639\n",
      "n = 10000, Multi option control variates estimation =  8.53823904551\n",
      "--------- Optimal beta =  [[ 0.95753388]\n",
      " [ 0.04004682]] ; standard error =  0.00174967343204\n",
      "n = 100000, Multi option control variates estimation =  8.53976420153\n",
      "--------- Optimal beta =  [[ 0.95718   ]\n",
      " [ 0.04025739]] ; standard error =  0.000559568037964\n"
     ]
    }
   ],
   "source": [
    "m = 120\n",
    "\n",
    "n = 1000\n",
    "EACT, ACT_list, GCT_list, ECT_list, std_error = AC_multiCV(T,Ta,m,n,S0,K,r,sigma,y,[1,1],[EC_g,EC_E])\n",
    "cov_ACT_CT = np.matrix([np.cov(ACT_list, GCT_list)[0,1], np.cov(ACT_list, ECT_list)[0,1]]).T\n",
    "cov_CT_CT = np.matrix(np.cov(ACT_list, ECT_list))\n",
    "beta_ = cov_CT_CT.I * cov_ACT_CT\n",
    "EACT_,tmp1,tmp2,tmp3, std_error = AC_multiCV(T,Ta,m,n,S0,K,r,sigma,y,[beta_[0,0],beta_[1,0]],[EC_g,EC_E])\n",
    "print('n = 1000, Multi control variates estimation = ', EACT_)\n",
    "print('--------- Optimal beta = ', beta_, '; standard error = ', std_error)\n",
    "\n",
    "n = 10000\n",
    "EACT, ACT_list, GCT_list, ECT_list, std_error = AC_multiCV(T,Ta,m,n,S0,K,r,sigma,y,[1,1],[EC_g,EC_E])\n",
    "cov_ACT_CT = np.matrix([np.cov(ACT_list, GCT_list)[0,1], np.cov(ACT_list, ECT_list)[0,1]]).T\n",
    "cov_CT_CT = np.matrix(np.cov(ACT_list, ECT_list))\n",
    "beta_ = cov_CT_CT.I * cov_ACT_CT\n",
    "EACT_,tmp1,tmp2,tmp3, std_error = AC_multiCV(T,Ta,m,n,S0,K,r,sigma,y,[beta_[0,0],beta_[1,0]],[EC_g,EC_E])\n",
    "print('n = 10000, Multi option control variates estimation = ', EACT_)\n",
    "print('--------- Optimal beta = ', beta_, '; standard error = ', std_error)\n",
    "\n",
    "n = 100000\n",
    "EACT, ACT_list, GCT_list, ECT_list, std_error = AC_multiCV(T,Ta,m,n,S0,K,r,sigma,y,[1,1],[EC_g,EC_E])\n",
    "cov_ACT_CT = np.matrix([np.cov(ACT_list, GCT_list)[0,1], np.cov(ACT_list, ECT_list)[0,1]]).T\n",
    "cov_CT_CT = np.matrix(np.cov(ACT_list, ECT_list))\n",
    "beta_ = cov_CT_CT.I * cov_ACT_CT\n",
    "EACT_,tmp1,tmp2,tmp3, std_error = AC_multiCV(T,Ta,m,n,S0,K,r,sigma,y,[beta_[0,0],beta_[1,0]],[EC_g,EC_E])\n",
    "print('n = 100000, Multi option control variates estimation = ', EACT_)\n",
    "print('--------- Optimal beta = ', beta_, '; standard error = ', std_error)"
   ]
  },
  {
   "cell_type": "markdown",
   "metadata": {},
   "source": [
    "### D"
   ]
  },
  {
   "cell_type": "code",
   "execution_count": 131,
   "metadata": {},
   "outputs": [
    {
     "name": "stdout",
     "output_type": "stream",
     "text": [
      "n=1000, product value =  104.18278008\n",
      "n=10000, product value =  104.026219683\n",
      "n=100000, product value =  104.069588036\n"
     ]
    }
   ],
   "source": [
    "def Product_BBMC(T,Ta,m,n,S0,K,r,sigma,y):\n",
    "    option_value, tmp = AC_BBMC(T,Ta,m,n,S0,K,r,sigma,y)\n",
    "    mu = r - y - 0.5*pow(sigma,2)\n",
    "    x = np.random.normal(size=n)\n",
    "    capital_gain = np.zeros(n)\n",
    "    for i in range(n):\n",
    "        ST = S0 * np.exp(mu*T+sigma*np.sqrt(T)*x[0])\n",
    "        capital_gain[i] = 1+max(ST/S0-1,0)*1.05\n",
    "    return option_value + 100*capital_gain.mean()*np.exp(-r*T)\n",
    "        \n",
    "print('n=1000, product value = ', Product_BBMC(T,Ta,120,1000,S0,K,r,sigma,y))\n",
    "print('n=10000, product value = ', Product_BBMC(T,Ta,120,10000,S0,K,r,sigma,y))\n",
    "print('n=100000, product value = ', Product_BBMC(T,Ta,120,100000,S0,K,r,sigma,y))"
   ]
  },
  {
   "cell_type": "markdown",
   "metadata": {},
   "source": [
    "### E"
   ]
  },
  {
   "cell_type": "markdown",
   "metadata": {},
   "source": [
    "iii"
   ]
  },
  {
   "cell_type": "code",
   "execution_count": 157,
   "metadata": {},
   "outputs": [
    {
     "name": "stdout",
     "output_type": "stream",
     "text": [
      "0\n",
      "1\n",
      "2\n",
      "3\n",
      "4\n",
      "5\n",
      "6\n",
      "7\n",
      "8\n",
      "9\n",
      "10\n",
      "11\n",
      "12\n",
      "13\n",
      "14\n",
      "15\n",
      "16\n",
      "17\n",
      "18\n",
      "19\n",
      "20\n",
      "21\n",
      "22\n",
      "23\n",
      "24\n"
     ]
    }
   ],
   "source": [
    "m = 120\n",
    "eps = 0.001\n",
    "\n",
    "S = np.arange(S0*0.9,S0*1.1,20)\n",
    "Delta_1000 = np.zeros(len(S))\n",
    "Delta_10000 = np.zeros(len(S))\n",
    "Delta_100000 = np.zeros(len(S))\n",
    "i=0\n",
    "for S_ in S:\n",
    "    S_p = (1+eps)*S_\n",
    "    S_m = (1-eps)*S_\n",
    "    \n",
    "    C_p = AC_BBMC(T,Ta,m,1000,S_p,K,r,sigma,y)[0]\n",
    "    C_m = AC_BBMC(T,Ta,m,1000,S_m,K,r,sigma,y)[0]\n",
    "    Delta_1000[i] = (C_p - C_m) / (2*100*eps*S0/K)\n",
    "    \n",
    "    C_p = AC_BBMC(T,Ta,m,10000,S_p,K,r,sigma,y)[0]\n",
    "    C_m = AC_BBMC(T,Ta,m,10000,S_m,K,r,sigma,y)[0]\n",
    "    Delta_10000[i] = (C_p - C_m) / (2*100*eps*S0/K)\n",
    "    \n",
    "    C_p = AC_BBMC(T,Ta,m,100000,S_p,K,r,sigma,y)[0]\n",
    "    C_m = AC_BBMC(T,Ta,m,100000,S_m,K,r,sigma,y)[0]\n",
    "    Delta_100000[i] = (C_p - C_m) / (2*100*eps*S0/K)\n",
    "    print(i)\n",
    "    i+=1\n",
    "    "
   ]
  },
  {
   "cell_type": "code",
   "execution_count": 172,
   "metadata": {},
   "outputs": [
    {
     "data": {
      "image/png": "[encoded data removed]",
      "text/plain": [
       "<matplotlib.figure.Figure at 0x11921a630>"
      ]
     },
     "metadata": {},
     "output_type": "display_data"
    }
   ],
   "source": [
    "EuroCall_Delta = np.zeros(len(S))\n",
    "GeoAsianCall_Delta = np.zeros(len(S))\n",
    "\n",
    "mu_g = (r-y-pow(sigma,2)/2)*((T-Ta)*m+Ta/m*(1+m)*m/2)/m\n",
    "sigma2_g = pow(sigma,2)*(T-Ta+Ta/m)*(m+(1+m)*m/2)\n",
    "for i in range(2,m):\n",
    "    sigma2_g += pow(sigma,2)*(T-Ta+i*Ta/m)*(m-i)\n",
    "sigma2_g = sigma2_g / pow(m,2)\n",
    "sigma_eff = np.sqrt(sigma2_g/T)\n",
    "i =0\n",
    "for S_ in S:\n",
    "    S_p = (1+eps)*S_\n",
    "    S_m = (1-eps)*S_\n",
    "    \n",
    "    C_p = 100*BSC(S_p/K,1,T,r,y,sigma)\n",
    "    C_m = 100*BSC(S_m/K,1,T,r,y,sigma)\n",
    "    EuroCall_Delta[i] = (C_p - C_m) / (2*100*eps*S0/K)\n",
    "    \n",
    "    F_p =S_p*np.exp(mu_g+sigma2_g/2)\n",
    "    F_m =S_m*np.exp(mu_g+sigma2_g/2)\n",
    "    C_p =100*BSC(F_p/K,1,T,r,r,sigma_eff)\n",
    "    C_m =100*BSC(F_m/K,1,T,r,r,sigma_eff)\n",
    "    GeoAsianCall_Delta[i] = (C_p - C_m) / (2*100*eps*S0/K)\n",
    "    i+=1\n",
    "    \n",
    "plt.figure(figsize=(10,10))\n",
    "plt.subplot(311)\n",
    "plt.title('n=1000')\n",
    "plt.plot(S,Delta_1000,label='AC Delta')\n",
    "plt.plot(S,EuroCall_Delta,label='European Delta')\n",
    "plt.plot(S,GeoAsianCall_Delta,label='Geometric Delta')\n",
    "plt.legend()\n",
    "plt.subplot(312)\n",
    "plt.title('n=10000')\n",
    "plt.plot(S,Delta_10000,label='AC Delta')\n",
    "plt.plot(S,EuroCall_Delta,label='European Delta')\n",
    "plt.plot(S,GeoAsianCall_Delta,label='Geometric Delta')\n",
    "plt.legend()\n",
    "plt.subplot(313)\n",
    "plt.title('n=100000')\n",
    "plt.plot(S,Delta_100000,label='AC Delta')\n",
    "plt.plot(S,EuroCall_Delta,label='European Delta')\n",
    "plt.plot(S,GeoAsianCall_Delta,label='Geometric Delta')\n",
    "plt.legend()\n",
    "plt.tight_layout()\n",
    "plt.show()"
   ]
  },
  {
   "cell_type": "code",
   "execution_count": 174,
   "metadata": {},
   "outputs": [
    {
     "name": "stdout",
     "output_type": "stream",
     "text": [
      "0 4.72937440499 4.71203285541 64.2279614133\n",
      "1 4.99095810815 4.97323802874 65.6299237576\n",
      "2 5.2614324677 5.24336338419 66.9225315223\n",
      "3 5.54041570394 5.5220155435 68.1487423784\n",
      "4 5.82790780866 5.80918309603 69.3507875042\n",
      "5 6.12425082822 6.10521477357 70.5039060981\n",
      "6 6.42921675479 6.4098932299 71.568610693\n",
      "7 6.74264506393 6.72304337885 72.59883361\n",
      "8 7.06458682047 7.04472579066 73.5593696812\n",
      "9 7.39526773387 7.3751581914 74.4797869243\n",
      "10 7.73447563926 7.71413816693 75.3239716021\n",
      "11 8.0819428219 8.06139442201 76.1051847909\n",
      "12 8.43774991112 8.4170048086 76.8337130372\n",
      "13 8.80201026882 8.78108547432 77.4992388981\n",
      "14 9.17440879898 9.15332079526 78.1037174585\n",
      "15 9.55506029208 9.5338256527 78.6468125209\n",
      "16 9.94370856201 9.92234283107 79.1323368373\n",
      "17 10.3400557198 10.3185758522 79.5550651593\n",
      "18 10.7445069832 10.722931109 79.9106449573\n",
      "19 11.1567267909 11.1350641646 80.2319491854\n",
      "20 11.5765715073 11.5548450942 80.4681969516\n",
      "21 12.0043731683 11.9826019315 80.6342101429\n",
      "22 12.439918969 12.4181155374 80.7534506824\n",
      "23 12.8829854192 12.8611627483 80.8247068162\n",
      "24 13.3336308077 13.3118047201 80.8373613115\n"
     ]
    }
   ],
   "source": [
    "Vega_1000 = np.zeros(len(S))\n",
    "Vega_10000 = np.zeros(len(S))\n",
    "Vega_100000 = np.zeros(len(S))\n",
    "i=0\n",
    "for S_ in S:\n",
    "    sigma_p = (1+eps)*sigma\n",
    "    sigma_m = (1-eps)*sigma\n",
    "    \n",
    "    C_p = AC_BBMC(T,Ta,m,1000,S_,K,r,sigma_p,y)[0]\n",
    "    C_m = AC_BBMC(T,Ta,m,1000,S_,K,r,sigma_m,y)[0]\n",
    "    Vega_1000[i] = (C_p - C_m) / (2*eps*sigma)\n",
    "    \n",
    "    C_p = AC_BBMC(T,Ta,m,10000,S_,K,r,sigma_p,y)[0]\n",
    "    C_m = AC_BBMC(T,Ta,m,10000,S_,K,r,sigma_m,y)[0]\n",
    "    Vega_10000[i] = (C_p - C_m) / (2*eps*sigma)\n",
    "    \n",
    "    C_p = AC_BBMC(T,Ta,m,100000,S_,K,r,sigma_p,y)[0]\n",
    "    C_m = AC_BBMC(T,Ta,m,100000,S_,K,r,sigma_m,y)[0]\n",
    "    Vega_100000[i] = (C_p - C_m) / (2*eps*S0/K)\n",
    "    print(i, C_p, C_m, (C_p - C_m) / (2*eps*sigma) )\n",
    "    i+=1"
   ]
  },
  {
   "cell_type": "code",
   "execution_count": 181,
   "metadata": {},
   "outputs": [],
   "source": [
    "EuroCall_Vega = np.zeros(len(S))\n",
    "GeoAsianCall_Vega = np.zeros(len(S))\n",
    "\n",
    "mu_g = (r-y-pow(sigma,2)/2)*((T-Ta)*m+Ta/m*(1+m)*m/2)/m\n",
    "\n",
    "j =0\n",
    "for S_ in S:\n",
    "    sigma_p = (1+eps)*sigma\n",
    "    Sigma_m = (1-eps)*sigma\n",
    "    \n",
    "    C_p = 100*BSC(S_/K,1,T,r,y,sigma_p)\n",
    "    C_m = 100*BSC(S_/K,1,T,r,y,sigma_m)\n",
    "    EuroCall_Vega[j] = (C_p - C_m) / (2*eps*sigma)\n",
    "    \n",
    "    sigma2_g_p = pow(sigma_p,2)*(T-Ta+Ta/m)*(m+(1+m)*m/2)\n",
    "    for i in range(2,m):\n",
    "        sigma2_g_p += pow(sigma_p,2)*(T-Ta+i*Ta/m)*(m-i)\n",
    "    sigma2_g_p = sigma2_g_p / pow(m,2)\n",
    "    sigma_eff_p = np.sqrt(sigma2_g_p/T)\n",
    "    F_p =S_*np.exp(mu_g+sigma2_g_p/2)\n",
    "    C_p =100*BSC(F_p/K,1,T,r,r,sigma_eff_p)\n",
    "    \n",
    "    sigma2_g_m = pow(sigma_m,2)*(T-Ta+Ta/m)*(m+(1+m)*m/2)\n",
    "    for i in range(2,m):\n",
    "        sigma2_g_m += pow(sigma_m,2)*(T-Ta+i*Ta/m)*(m-i)\n",
    "    sigma2_g_m = sigma2_g_m / pow(m,2)\n",
    "    sigma_eff_m = np.sqrt(sigma2_g_m/T)\n",
    "    F_m =S_*np.exp(mu_g+sigma2_g_m/2)\n",
    "    C_m =100*BSC(F_m/K,1,T,r,r,sigma_eff_m)\n",
    "    \n",
    "    GeoAsianCall_Vega[j] = (C_p - C_m) / (2*eps*sigma)\n",
    "    j+=1"
   ]
  },
  {
   "cell_type": "code",
   "execution_count": 184,
   "metadata": {},
   "outputs": [
    {
     "data": {
      "image/png": "[encoded data removed]",
      "text/plain": [
       "<matplotlib.figure.Figure at 0x11178dac8>"
      ]
     },
     "metadata": {},
     "output_type": "display_data"
    }
   ],
   "source": [
    "#Vega_100000[i] = (C_p - C_m) / (2*eps*S0/K)\n",
    "\n",
    "Vega_100000_ = Vega_100000 * (S0/K) /   sigma \n",
    "\n",
    "plt.figure(figsize=(10,10))\n",
    "plt.subplot(311)\n",
    "plt.title('n=1000')\n",
    "plt.plot(S,Vega_1000,label='AC Vega')\n",
    "plt.plot(S,EuroCall_Vega,label='European Vega')\n",
    "plt.plot(S,GeoAsianCall_Vega,label='Geometric Vega')\n",
    "plt.legend()\n",
    "plt.subplot(312)\n",
    "plt.title('n=10000')\n",
    "plt.plot(S,Vega_10000,label='AC Vega')\n",
    "plt.plot(S,EuroCall_Vega,label='European Vega')\n",
    "plt.plot(S,GeoAsianCall_Vega,label='Geometric Vega')\n",
    "plt.legend()\n",
    "plt.subplot(313)\n",
    "plt.title('n=100000')\n",
    "plt.plot(S,Vega_100000_,label='AC Vega')\n",
    "plt.plot(S,EuroCall_Vega,label='European Vega')\n",
    "plt.plot(S,GeoAsianCall_Vega,label='Geometric Vega')\n",
    "plt.legend()\n",
    "plt.tight_layout()\n",
    "plt.show()"
   ]
  },
  {
   "cell_type": "markdown",
   "metadata": {},
   "source": [
    "### Question 4"
   ]
  },
  {
   "cell_type": "code",
   "execution_count": null,
   "metadata": {
    "collapsed": true
   },
   "outputs": [],
   "source": [
    "from scipy.integrate import quad\n",
    "import statsmodels.api as sm\n",
    "\n",
    "S_0 = K = 2450\n",
    "T= 1\n",
    "r = 91/10000\n",
    "y = 0.0195\n",
    "sigma = 0.135\n",
    "# number of scenarios \n",
    "n = 10000\n",
    "#n_t =100\n",
    "\n",
    "def cholesky(l,p):\n",
    "    ## generate rho\n",
    "    I = np.identity(l)\n",
    "    A = p*np.ones((l,l))\n",
    "    rho = (1-p)*I+A\n",
    "    return np.linalg.cholesky(rho)\n",
    "\n",
    "def generate_CT(l,n,L,S_0,K,T,r,y,sigma):\n",
    "    S_T = np.zeros((n,l))\n",
    "    C_T = np.zeros(n)\n",
    "    for i in range(n):\n",
    "        #S_new = S_0\n",
    "        #for t in range(n_t):\n",
    "        zk_ =np.transpose(np.random.normal(0,1,l))\n",
    "        xk = np.dot(L,zk_)\n",
    "        S_T[i,:] = S_0*np.exp((r-y-sigma**2/2)*T+sigma*np.sqrt(T)*xk)\n",
    "        #S_new = S_T[i,:]\n",
    "        #print(S_T[i,:])\n",
    "        C_T[i] = max(max(S_T[i,:])-K,0)\n",
    "    return C_T\n",
    "\n",
    "## compute value\n",
    "def C_t(l,n,p,S_0,K,T,r,y,sigma):\n",
    "    L = cholesky(l,p)\n",
    "    C_T = generate_CT(l,n,L,S_0,K,T,r,y,sigma)\n",
    "    return np.exp(-r*T)*np.mean(C_T),np.std(C_T)/np.sqrt(n)\n"
   ]
  },
  {
   "cell_type": "markdown",
   "metadata": {},
   "source": [
    "i check(a)ii"
   ]
  },
  {
   "cell_type": "code",
   "execution_count": null,
   "metadata": {
    "collapsed": true
   },
   "outputs": [],
   "source": [
    "def vanilla_call(S_0,K,r,y,sigma,T):\n",
    "    xp = (np.log(S_0/K)+(r-y)*T)/(sigma*np.sqrt(T))+(sigma*np.sqrt(T))/2\n",
    "    xm = (np.log(S_0/K)+(r-y)*T)/(sigma*np.sqrt(T))-(sigma*np.sqrt(T))/2\n",
    "    return S_0*np.exp(-y*T)*norm.cdf(xp)-K*np.exp(-r*T)*norm.cdf(xm)\n",
    "C_V=vanilla_call(S_0,K,r,y,sigma,T)\n",
    "for l in [1,2,5,10,20,50]:\n",
    "    for n in [1000,10000,100000]:\n",
    "        print(\"When l =  %s n=  %d\" %(l,n))\n",
    "        C = C_t(l,n,0.999999999999999,S_0,K,T,r,y,sigma)\n",
    "        print(C, C[0]-C_V)"
   ]
  },
  {
   "cell_type": "code",
   "execution_count": 175,
   "metadata": {
    "collapsed": true
   },
   "outputs": [],
   "source": [
    "#### check(a)iii"
   ]
  },
  {
   "cell_type": "code",
   "execution_count": null,
   "metadata": {
    "collapsed": true
   },
   "outputs": [],
   "source": [
    "def close_form(x, l):\n",
    "    A = (r-y-sigma**2/2.)*T\n",
    "    B = np.sqrt(sigma**2*T)\n",
    "    return (S_0*np.exp(A+B*x)-K)*l*norm.pdf(x)*np.power(norm.cdf(x),l-1)\n",
    "\n",
    "for l in [1,2,5,10,20,50]:\n",
    "    for n in [1000,10000,100000]:\n",
    "        print(\"When l =  %s n=  %d\" %(l,n))\n",
    "        C_V = np.exp(-r*T)*quad(close_form,0,np.inf,args=(l))[0]\n",
    "        C = C_t(l,n,0,S_0,K,T,r,y,sigma)\n",
    "        print(C, C[0]-C_V)"
   ]
  },
  {
   "cell_type": "markdown",
   "metadata": {},
   "source": [
    "(ii)"
   ]
  },
  {
   "cell_type": "code",
   "execution_count": null,
   "metadata": {
    "collapsed": true
   },
   "outputs": [],
   "source": [
    "for p in [0,0.25,0.5,0.75,0.9]:\n",
    "    for l in [1,2,5,10,20,50]:\n",
    "        for n in [1000,10000,100000]:\n",
    "            print(\"When p = %s l =  %d n=  %d\" %(p,l,n))\n",
    "            C = C_t(l,n,0,S_0,K,T,r,y,sigma)\n",
    "            print(C)\n",
    "            \n"
   ]
  },
  {
   "cell_type": "markdown",
   "metadata": {},
   "source": [
    "iii"
   ]
  },
  {
   "cell_type": "code",
   "execution_count": null,
   "metadata": {
    "collapsed": true
   },
   "outputs": [],
   "source": [
    "for p in [0, 0.25, 0.5, 0.75, 0.9, 0.99]:\n",
    "    Y= np.zeros(7)\n",
    "    X = np.zeros(7)\n",
    "    l = [1,2,5,10,20,50]\n",
    "    for i in range(len(l)):\n",
    "        Y[i] = C_t(l[i],n,p,S_0,K,T,r,y,sigma)[0]\n",
    "        X[i] = np.sqrt(i)-1\n",
    "    X = sm.add_constant(X)\n",
    "    results = sm.OLS(Y, X).fit()\n",
    "    print('When p = ', p)\n",
    "    print(\"c0 and c1 is %s,%s\" %( results.params[0], results.params[1]))\n",
    "    print('R^2 = %.4f' % results.rsquared_adj)\n",
    "    print('pvalue = %.4f' % results.pvalues[1])"
   ]
  },
  {
   "cell_type": "markdown",
   "metadata": {},
   "source": [
    "C (2) (ii)"
   ]
  },
  {
   "cell_type": "code",
   "execution_count": null,
   "metadata": {
    "collapsed": true
   },
   "outputs": [],
   "source": [
    "def anti_variates(l,n,p,S_0,K,T,r,y,sigma):\n",
    "    L = cholesky(l,p)\n",
    "    S_T = np.zeros((n,l))\n",
    "    S_T_anti = np.zeros((n,l))\n",
    "    C_T = np.zeros(n)\n",
    "    C_T_anti = np.zeros(n)\n",
    "    for i in range(n):\n",
    "        zk_ =np.transpose(np.random.normal(0,1,l))\n",
    "        xk = np.dot(L,zk_)\n",
    "        S_T[i,:] = S_0*np.exp((r-y-sigma**2/2)*T+sigma*np.sqrt(T)*xk)\n",
    "        S_T_anti[i,:] = S_0*np.exp((r-y-sigma**2/2)*T-sigma*np.sqrt(T)*xk)\n",
    "        C_T[i] = max(max(S_T[i,:])-K,0)\n",
    "        C_T_anti[i] = max(max(S_T_anti[i,:])-K,0)\n",
    "    return np.exp(-r*T)*np.mean(0.5*(C_T+C_T_anti)),np.std(np.hstack((C_T,C_T_anti)))/np.sqrt(2*n)"
   ]
  },
  {
   "cell_type": "code",
   "execution_count": null,
   "metadata": {
    "collapsed": true
   },
   "outputs": [],
   "source": [
    "import time\n",
    "p = [0, 0.25, 0.5, 0.75, 0.9, 0.99]\n",
    "eff = np.zeros((len(l),len(p)))\n",
    "n = 100000\n",
    "for i in range(len(l)):\n",
    "    for j in range(len(p)):\n",
    "        start = time.time()\n",
    "        C_bare = C_t(l[i],n,p[j],S_0,K,T,r,y,sigma)[1]\n",
    "        end = time.time()\n",
    "        start_anti = time.time()\n",
    "        C_anti = anti_variates(l[i],n,p[j],S_0,K,T,r,y,sigma)[1]\n",
    "        end_anti = time.time()\n",
    "        eff[i,j] = (C_bare**2*(start-end))/(C_anti**2*(start_anti-end_anti))\n",
    "print(eff)        "
   ]
  },
  {
   "cell_type": "code",
   "execution_count": null,
   "metadata": {
    "collapsed": true
   },
   "outputs": [],
   "source": [
    "#### Control Variates"
   ]
  },
  {
   "cell_type": "code",
   "execution_count": null,
   "metadata": {
    "collapsed": true
   },
   "outputs": [],
   "source": [
    "def control_variates_vanilla(l,n,p,S_0,K,T,r,y,sigma):\n",
    "    L = cholesky(l,p)\n",
    "    S_T = np.zeros((n,l))\n",
    "    S_T_anti = np.zeros((n,l))\n",
    "    S_T_vanilla = np.zeros(n)\n",
    "    S_T_vanilla_anti = np.zeros(n)\n",
    "    C_T = np.zeros(n)\n",
    "    C_T_anti = np.zeros(n)\n",
    "    C_T_vanilla = np.zeros(n)\n",
    "    C_T_vanilla_anti = np.zeros(n)\n",
    "    for i in range(n):\n",
    "        zk_ =np.transpose(np.random.normal(0,1,l))\n",
    "        xk = np.dot(L,zk_)\n",
    "        S_T[i,:] = S_0*np.exp((r-y-sigma**2/2)*T+sigma*np.sqrt(T)*xk)\n",
    "        S_T_anti[i,:] = S_0*np.exp((r-y-sigma**2/2)*T-sigma*np.sqrt(T)*xk)\n",
    "        S_T_vanilla[i] = S_0*np.exp((r-y-sigma**2/2)*T+sigma*np.sqrt(T)*zk_[0])\n",
    "        S_T_vanilla_anti[i] = S_0*np.exp((r-y-sigma**2/2)*T-sigma*np.sqrt(T)*zk_[0])\n",
    "        C_T[i] = max(max(S_T[i,:])-K,0)\n",
    "        C_T_anti[i] = max(max(S_T_anti[i,:])-K,0)\n",
    "        C_T_vanilla[i] = max(S_T_vanilla[i]-K,0)\n",
    "        C_T_vanilla_anti[i] = max(S_T_vanilla_anti[i]-K,0)\n",
    "    return vanilla_call(S_0,K,r,y,sigma,T)+np.exp(-r*T)*np.mean(0.5*(C_T+C_T_anti-C_T_vanilla-C_T_vanilla_anti)),np.std(np.hstack((C_T-C_T_vanilla,C_T_anti-C_T_vanilla_anti)))/np.sqrt(2*n)"
   ]
  },
  {
   "cell_type": "code",
   "execution_count": null,
   "metadata": {
    "collapsed": true
   },
   "outputs": [],
   "source": [
    "p = [0.5,0.6,0.7,0.8,0.9,0.99]\n",
    "eff = np.zeros((len(l),len(p)))\n",
    "n = 100000\n",
    "for i in range(len(l)-1):\n",
    "    for j in range(len(p)):\n",
    "        start = time.time()\n",
    "        C_bare = C_t(l[i+1],n,p[j],S_0,K,T,r,y,sigma)[1]\n",
    "        end = time.time()\n",
    "        start_cv = time.time()\n",
    "        C_cv= control_variates_vanilla(l[i+1],n,p[j],S_0,K,T,r,y,sigma)[1]\n",
    "        end_cv = time.time()\n",
    "        eff[i,j] = (C_bare**2*(start-end))/(C_cv**2*(start_cv-end_cv))"
   ]
  },
  {
   "cell_type": "code",
   "execution_count": null,
   "metadata": {
    "collapsed": true
   },
   "outputs": [],
   "source": [
    "print(eff)"
   ]
  },
  {
   "cell_type": "code",
   "execution_count": null,
   "metadata": {
    "collapsed": true
   },
   "outputs": [],
   "source": [
    "def anti_variates(l,n,p,S_0,K,T,r,y,sigma):\n",
    "    L = cholesky(l,p)\n",
    "    S_T = np.zeros((n,l))\n",
    "    S_T_anti = np.zeros((n,l))\n",
    "    S_T_con = np.zeros(n)\n",
    "    C_T = np.zeros(n)\n",
    "    C_T_anti = np.zeros(n)\n",
    "    C_T_con = np.zeros(n)\n",
    "    for i in range(n):\n",
    "        zk_ =np.transpose(np.random.normal(0,1,l))\n",
    "        xk = np.dot(L,zk_)\n",
    "        S_T[i,:] = S_0*np.exp((r-y-sigma**2/2)*T+sigma*np.sqrt(T)*xk)\n",
    "        S_T_anti[i,:] = S_0*np.exp((r-y-sigma**2/2)*T-sigma*np.sqrt(T)*xk)\n",
    "        S_T_con[i] = S_0*np.exp((r-y-sigma**2/2)*T+sigma*np.sqrt(T)*max(zk_))\n",
    "        C_T[i] = max(max(S_T[i,:])-K,0)\n",
    "        C_T_anti[i] = max(max(S_T_anti[i,:])-K,0)\n",
    "        C_T_con[i] = max(S_T_con[i]-K,0)\n",
    "    return np.exp(-r*T)*quad(close_form,0,np.inf,args=(l))[0]+np.exp(-r*T)*np.mean(0.5*(C_T+C_T_anti)-C_T_con),np.std(np.hstack((C_T-C_T_con,C_T_anti-C_T_con)))/np.sqrt(2*n)\n",
    "\n"
   ]
  },
  {
   "cell_type": "code",
   "execution_count": null,
   "metadata": {
    "collapsed": true
   },
   "outputs": [],
   "source": [
    "p = [0.01,0.1,0.2,0.3,0.4,0.5]\n",
    "eff = np.zeros((len(l)-1,len(p)))\n",
    "n = 100000\n",
    "for i in range(len(l)-1):\n",
    "    for j in range(len(p)):\n",
    "        start = time.time()\n",
    "        C_bare = C_t(l[i+1],n,p[j],S_0,K,T,r,y,sigma)[1]\n",
    "        end = time.time()\n",
    "        start_cv = time.time()\n",
    "        C_cv= anti_variates(l[i+1],n,p[j],S_0,K,T,r,y,sigma)[1]\n",
    "        end_cv = time.time()\n",
    "        eff[i,j] = (C_bare**2*(start-end))/(C_cv**2*(start_cv-end_cv))"
   ]
  },
  {
   "cell_type": "code",
   "execution_count": null,
   "metadata": {
    "collapsed": true
   },
   "outputs": [],
   "source": [
    "print(eff)"
   ]
  }
 ],
 "metadata": {
  "kernelspec": {
   "display_name": "Python 3",
   "language": "python",
   "name": "python3"
  },
  "language_info": {
   "codemirror_mode": {
    "name": "ipython",
    "version": 3
   },
   "file_extension": ".py",
   "mimetype": "text/x-python",
   "name": "python",
   "nbconvert_exporter": "python",
   "pygments_lexer": "ipython3",
   "version": "3.6.1"
  }
 },
 "nbformat": 4,
 "nbformat_minor": 2
}
